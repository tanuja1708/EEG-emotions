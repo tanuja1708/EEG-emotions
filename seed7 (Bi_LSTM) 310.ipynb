{
  "nbformat": 4,
  "nbformat_minor": 0,
  "metadata": {
    "colab": {
      "provenance": [],
      "gpuType": "T4",
      "authorship_tag": "ABX9TyNJ7RYIKpAlvptmv9grFute",
      "include_colab_link": true
    },
    "kernelspec": {
      "name": "python3",
      "display_name": "Python 3"
    },
    "language_info": {
      "name": "python"
    },
    "accelerator": "GPU"
  },
  "cells": [
    {
      "cell_type": "markdown",
      "metadata": {
        "id": "view-in-github",
        "colab_type": "text"
      },
      "source": [
        "<a href=\"https://colab.research.google.com/github/tanuja1708/EEG-emotions/blob/main/seed7%20(Bi_LSTM)%20310.ipynb\" target=\"_parent\"><img src=\"https://colab.research.google.com/assets/colab-badge.svg\" alt=\"Open In Colab\"/></a>"
      ]
    },
    {
      "cell_type": "code",
      "execution_count": 8,
      "metadata": {
        "id": "dc1lUrfEm073"
      },
      "outputs": [],
      "source": [
        "import pandas as pd\n",
        "import numpy as np\n",
        "import tensorflow as tf\n",
        "import matplotlib.pyplot as plt\n",
        "from sklearn.model_selection import train_test_split\n",
        "from sklearn.preprocessing import LabelEncoder, StandardScaler\n",
        "from tensorflow.keras.utils import to_categorical\n",
        "from tensorflow.keras.callbacks import EarlyStopping # Import EarlyStopping\n",
        "from sklearn.metrics import confusion_matrix, classification_report\n",
        "import seaborn as sns\n"
      ]
    },
    {
      "cell_type": "code",
      "source": [
        "df = pd.read_csv('/content/de_lds_with_labels(310 seed7).csv')\n"
      ],
      "metadata": {
        "id": "CNqjF7SjqYHG"
      },
      "execution_count": 2,
      "outputs": []
    },
    {
      "cell_type": "code",
      "source": [
        "# Separate features and labels\n",
        "X = df.iloc[:, :-1].values\n",
        "y = df.iloc[:, -1].values\n",
        "\n",
        "# Encode labels and convert to categorical (7 emotions)\n",
        "le = LabelEncoder()\n",
        "y_encoded = le.fit_transform(y)\n",
        "y_categorical = to_categorical(y_encoded, num_classes=7)\n",
        "\n",
        "# Normalize features\n",
        "scaler = StandardScaler()\n",
        "X_scaled = scaler.fit_transform(X)\n",
        "X_scaled = X_scaled.reshape(X_scaled.shape[0], 1, X_scaled.shape[1])  # Shape: (samples, 1, 310)\n",
        "\n",
        "\n",
        "# Train-test split\n",
        "X_train, X_test, y_train, y_test = train_test_split(X_scaled, y_categorical, test_size=0.2, random_state=42)\n"
      ],
      "metadata": {
        "id": "Sm5nf0I1r8t3"
      },
      "execution_count": 15,
      "outputs": []
    },
    {
      "cell_type": "code",
      "source": [
        "print(\"X_train shape:\", X_train.shape)\n",
        "print(\"y_train shape:\", y_train.shape)\n",
        "print(\"X_test shape:\", X_test.shape)\n",
        "print(\"y_test shape:\", y_test.shape)\n"
      ],
      "metadata": {
        "colab": {
          "base_uri": "https://localhost:8080/"
        },
        "id": "xKV5fAVqsBnv",
        "outputId": "f8e27e00-d840-424d-a407-5e6c2e35ba88"
      },
      "execution_count": 16,
      "outputs": [
        {
          "output_type": "stream",
          "name": "stdout",
          "text": [
            "X_train shape: (55793, 1, 310)\n",
            "y_train shape: (55793, 7)\n",
            "X_test shape: (13949, 1, 310)\n",
            "y_test shape: (13949, 7)\n"
          ]
        }
      ]
    },
    {
      "cell_type": "code",
      "source": [
        "batch_size = 32\n",
        "\n",
        "train_dataset = tf.data.Dataset.from_tensor_slices((X_train, y_train)).shuffle(1000).batch(batch_size)\n",
        "test_dataset = tf.data.Dataset.from_tensor_slices((X_test, y_test)).batch(batch_size)\n"
      ],
      "metadata": {
        "id": "1V7gjSmjr-OO"
      },
      "execution_count": 17,
      "outputs": []
    },
    {
      "cell_type": "code",
      "source": [
        "model = tf.keras.Sequential([\n",
        "    tf.keras.layers.Input(shape=(1, 310)),  # Expecting input shape (1, 310)\n",
        "    tf.keras.layers.Bidirectional(tf.keras.layers.LSTM(64, return_sequences=True)),\n",
        "    tf.keras.layers.Bidirectional(tf.keras.layers.LSTM(32)),\n",
        "    tf.keras.layers.Dense(64, activation='relu'),\n",
        "    tf.keras.layers.Dense(7, activation='softmax')  # 7 emotions\n",
        "])\n"
      ],
      "metadata": {
        "id": "aXR4E7jOsqyZ"
      },
      "execution_count": 18,
      "outputs": []
    },
    {
      "cell_type": "code",
      "source": [
        "model.compile(\n",
        "    loss='categorical_crossentropy',\n",
        "    optimizer='adam',\n",
        "    metrics=['accuracy']\n",
        ")\n",
        "\n",
        "# EarlyStopping callback\n",
        "early_stopping = EarlyStopping(\n",
        "    monitor='val_accuracy',  # Monitor validation accuracy\n",
        "    patience=10,  # Number of epochs with no improvement after which training will be stopped\n",
        "    restore_best_weights=True,  # Restore the best model weights once stopping is triggered\n",
        "    mode='max',  # We want to maximize validation accuracy\n",
        "    verbose=1  # Print a message when stopping occurs\n",
        ")\n",
        "\n",
        "# Train model\n",
        "history = model.fit(\n",
        "    train_dataset,\n",
        "    epochs=100,\n",
        "    validation_data=test_dataset,\n",
        "    callbacks=[early_stopping]  # Include the early stopping callback\n",
        ")"
      ],
      "metadata": {
        "colab": {
          "base_uri": "https://localhost:8080/"
        },
        "id": "NKE5kkUMstdC",
        "outputId": "a1fa25df-92a1-41e3-800c-9488532f16e7"
      },
      "execution_count": 19,
      "outputs": [
        {
          "output_type": "stream",
          "name": "stdout",
          "text": [
            "Epoch 1/100\n",
            "\u001b[1m1744/1744\u001b[0m \u001b[32m━━━━━━━━━━━━━━━━━━━━\u001b[0m\u001b[37m\u001b[0m \u001b[1m21s\u001b[0m 10ms/step - accuracy: 0.5513 - loss: 1.1704 - val_accuracy: 0.9528 - val_loss: 0.1465\n",
            "Epoch 2/100\n",
            "\u001b[1m1744/1744\u001b[0m \u001b[32m━━━━━━━━━━━━━━━━━━━━\u001b[0m\u001b[37m\u001b[0m \u001b[1m16s\u001b[0m 9ms/step - accuracy: 0.9572 - loss: 0.1307 - val_accuracy: 0.9647 - val_loss: 0.1123\n",
            "Epoch 3/100\n",
            "\u001b[1m1744/1744\u001b[0m \u001b[32m━━━━━━━━━━━━━━━━━━━━\u001b[0m\u001b[37m\u001b[0m \u001b[1m17s\u001b[0m 10ms/step - accuracy: 0.9755 - loss: 0.0778 - val_accuracy: 0.9933 - val_loss: 0.0253\n",
            "Epoch 4/100\n",
            "\u001b[1m1744/1744\u001b[0m \u001b[32m━━━━━━━━━━━━━━━━━━━━\u001b[0m\u001b[37m\u001b[0m \u001b[1m20s\u001b[0m 10ms/step - accuracy: 0.9854 - loss: 0.0463 - val_accuracy: 0.9834 - val_loss: 0.0520\n",
            "Epoch 5/100\n",
            "\u001b[1m1744/1744\u001b[0m \u001b[32m━━━━━━━━━━━━━━━━━━━━\u001b[0m\u001b[37m\u001b[0m \u001b[1m21s\u001b[0m 10ms/step - accuracy: 0.9836 - loss: 0.0528 - val_accuracy: 0.9882 - val_loss: 0.0335\n",
            "Epoch 6/100\n",
            "\u001b[1m1744/1744\u001b[0m \u001b[32m━━━━━━━━━━━━━━━━━━━━\u001b[0m\u001b[37m\u001b[0m \u001b[1m16s\u001b[0m 9ms/step - accuracy: 0.9865 - loss: 0.0448 - val_accuracy: 0.9753 - val_loss: 0.0751\n",
            "Epoch 7/100\n",
            "\u001b[1m1744/1744\u001b[0m \u001b[32m━━━━━━━━━━━━━━━━━━━━\u001b[0m\u001b[37m\u001b[0m \u001b[1m16s\u001b[0m 9ms/step - accuracy: 0.9802 - loss: 0.0673 - val_accuracy: 0.9913 - val_loss: 0.0284\n",
            "Epoch 8/100\n",
            "\u001b[1m1744/1744\u001b[0m \u001b[32m━━━━━━━━━━━━━━━━━━━━\u001b[0m\u001b[37m\u001b[0m \u001b[1m18s\u001b[0m 10ms/step - accuracy: 0.9912 - loss: 0.0306 - val_accuracy: 0.9996 - val_loss: 0.0019\n",
            "Epoch 9/100\n",
            "\u001b[1m1744/1744\u001b[0m \u001b[32m━━━━━━━━━━━━━━━━━━━━\u001b[0m\u001b[37m\u001b[0m \u001b[1m18s\u001b[0m 10ms/step - accuracy: 0.9907 - loss: 0.0337 - val_accuracy: 0.9890 - val_loss: 0.0396\n",
            "Epoch 10/100\n",
            "\u001b[1m1744/1744\u001b[0m \u001b[32m━━━━━━━━━━━━━━━━━━━━\u001b[0m\u001b[37m\u001b[0m \u001b[1m16s\u001b[0m 9ms/step - accuracy: 0.9870 - loss: 0.0440 - val_accuracy: 0.9826 - val_loss: 0.0493\n",
            "Epoch 11/100\n",
            "\u001b[1m1744/1744\u001b[0m \u001b[32m━━━━━━━━━━━━━━━━━━━━\u001b[0m\u001b[37m\u001b[0m \u001b[1m21s\u001b[0m 9ms/step - accuracy: 0.9907 - loss: 0.0333 - val_accuracy: 0.9973 - val_loss: 0.0102\n",
            "Epoch 12/100\n",
            "\u001b[1m1744/1744\u001b[0m \u001b[32m━━━━━━━━━━━━━━━━━━━━\u001b[0m\u001b[37m\u001b[0m \u001b[1m16s\u001b[0m 9ms/step - accuracy: 0.9996 - loss: 0.0017 - val_accuracy: 1.0000 - val_loss: 1.0631e-04\n",
            "Epoch 13/100\n",
            "\u001b[1m1744/1744\u001b[0m \u001b[32m━━━━━━━━━━━━━━━━━━━━\u001b[0m\u001b[37m\u001b[0m \u001b[1m16s\u001b[0m 9ms/step - accuracy: 1.0000 - loss: 8.4521e-05 - val_accuracy: 1.0000 - val_loss: 3.8901e-05\n",
            "Epoch 14/100\n",
            "\u001b[1m1744/1744\u001b[0m \u001b[32m━━━━━━━━━━━━━━━━━━━━\u001b[0m\u001b[37m\u001b[0m \u001b[1m16s\u001b[0m 9ms/step - accuracy: 1.0000 - loss: 3.1506e-05 - val_accuracy: 1.0000 - val_loss: 1.5393e-05\n",
            "Epoch 15/100\n",
            "\u001b[1m1744/1744\u001b[0m \u001b[32m━━━━━━━━━━━━━━━━━━━━\u001b[0m\u001b[37m\u001b[0m \u001b[1m15s\u001b[0m 9ms/step - accuracy: 1.0000 - loss: 1.2631e-05 - val_accuracy: 1.0000 - val_loss: 6.2740e-06\n",
            "Epoch 16/100\n",
            "\u001b[1m1744/1744\u001b[0m \u001b[32m━━━━━━━━━━━━━━━━━━━━\u001b[0m\u001b[37m\u001b[0m \u001b[1m15s\u001b[0m 9ms/step - accuracy: 1.0000 - loss: 5.1169e-06 - val_accuracy: 1.0000 - val_loss: 2.5405e-06\n",
            "Epoch 17/100\n",
            "\u001b[1m1744/1744\u001b[0m \u001b[32m━━━━━━━━━━━━━━━━━━━━\u001b[0m\u001b[37m\u001b[0m \u001b[1m22s\u001b[0m 10ms/step - accuracy: 1.0000 - loss: 2.0800e-06 - val_accuracy: 1.0000 - val_loss: 1.0103e-06\n",
            "Epoch 18/100\n",
            "\u001b[1m1744/1744\u001b[0m \u001b[32m━━━━━━━━━━━━━━━━━━━━\u001b[0m\u001b[37m\u001b[0m \u001b[1m21s\u001b[0m 10ms/step - accuracy: 1.0000 - loss: 8.2119e-07 - val_accuracy: 1.0000 - val_loss: 4.0443e-07\n",
            "Epoch 19/100\n",
            "\u001b[1m1744/1744\u001b[0m \u001b[32m━━━━━━━━━━━━━━━━━━━━\u001b[0m\u001b[37m\u001b[0m \u001b[1m16s\u001b[0m 9ms/step - accuracy: 1.0000 - loss: 3.2550e-07 - val_accuracy: 1.0000 - val_loss: 1.6367e-07\n",
            "Epoch 20/100\n",
            "\u001b[1m1744/1744\u001b[0m \u001b[32m━━━━━━━━━━━━━━━━━━━━\u001b[0m\u001b[37m\u001b[0m \u001b[1m22s\u001b[0m 10ms/step - accuracy: 1.0000 - loss: 1.3104e-07 - val_accuracy: 1.0000 - val_loss: 6.5651e-08\n",
            "Epoch 21/100\n",
            "\u001b[1m1744/1744\u001b[0m \u001b[32m━━━━━━━━━━━━━━━━━━━━\u001b[0m\u001b[37m\u001b[0m \u001b[1m17s\u001b[0m 10ms/step - accuracy: 1.0000 - loss: 5.2437e-08 - val_accuracy: 1.0000 - val_loss: 2.6279e-08\n",
            "Epoch 22/100\n",
            "\u001b[1m1744/1744\u001b[0m \u001b[32m━━━━━━━━━━━━━━━━━━━━\u001b[0m\u001b[37m\u001b[0m \u001b[1m19s\u001b[0m 9ms/step - accuracy: 1.0000 - loss: 2.1046e-08 - val_accuracy: 1.0000 - val_loss: 1.0589e-08\n",
            "Epoch 22: early stopping\n",
            "Restoring model weights from the end of the best epoch: 12.\n"
          ]
        }
      ]
    },
    {
      "cell_type": "code",
      "source": [
        "test_loss, test_accuracy = model.evaluate(X_test, y_test, verbose=0)\n",
        "print(f\"Test Accuracy: {test_accuracy*100:.2f}\")\n"
      ],
      "metadata": {
        "colab": {
          "base_uri": "https://localhost:8080/"
        },
        "id": "w6GJ5lzHy509",
        "outputId": "8ca329a4-7cb7-4d45-f932-8e130c0479c5"
      },
      "execution_count": 20,
      "outputs": [
        {
          "output_type": "stream",
          "name": "stdout",
          "text": [
            "Test Accuracy: 100.00\n"
          ]
        }
      ]
    },
    {
      "cell_type": "code",
      "source": [
        "history_dict = history.history\n",
        "acc, val_acc = history_dict['accuracy'], history_dict['val_accuracy']\n",
        "loss, val_loss = history_dict['loss'], history_dict['val_loss']\n",
        "\n",
        "plt.figure(figsize=(10, 5))\n",
        "\n",
        "plt.subplot(1, 2, 1)\n",
        "plt.plot(acc, marker='o')\n",
        "plt.plot(val_acc, marker='x')\n",
        "plt.title('Training & Validation Accuracy')\n",
        "plt.xlabel('Epochs')\n",
        "plt.ylabel('Accuracy')\n",
        "plt.legend(['Train', 'Validation'])\n",
        "\n",
        "plt.subplot(1, 2, 2)\n",
        "plt.plot(loss, marker='o')\n",
        "plt.plot(val_loss, marker='x')\n",
        "plt.title('Training & Validation Loss')\n",
        "plt.xlabel('Epochs')\n",
        "plt.ylabel('Loss')\n",
        "plt.legend(['Train', 'Validation'])\n",
        "\n",
        "plt.tight_layout()\n",
        "plt.show()\n"
      ],
      "metadata": {
        "colab": {
          "base_uri": "https://localhost:8080/",
          "height": 507
        },
        "id": "WX0cBMv6zTCr",
        "outputId": "8d194840-e472-4fa2-debb-9ea3a5ff39d3"
      },
      "execution_count": 21,
      "outputs": [
        {
          "output_type": "display_data",
          "data": {
            "text/plain": [
              "<Figure size 1000x500 with 2 Axes>"
            ],
            "image/png": "[encoded data removed]"
          },
          "metadata": {}
        }
      ]
    },
    {
      "cell_type": "code",
      "source": [
        "# Predict on test data\n",
        "y_pred_probs = model.predict(X_test)\n",
        "y_pred_classes = np.argmax(y_pred_probs, axis=1)\n",
        "y_true_classes = np.argmax(y_test, axis=1)\n",
        "\n",
        "# Classification report\n",
        "print(\"Classification Report:\\n\")\n",
        "print(classification_report(y_true_classes, y_pred_classes, target_names=le.classes_))\n"
      ],
      "metadata": {
        "colab": {
          "base_uri": "https://localhost:8080/"
        },
        "id": "G18J1LeUzV1Y",
        "outputId": "723dc9e4-8bae-405b-a2be-d1f079c025e3"
      },
      "execution_count": 22,
      "outputs": [
        {
          "output_type": "stream",
          "name": "stdout",
          "text": [
            "\u001b[1m436/436\u001b[0m \u001b[32m━━━━━━━━━━━━━━━━━━━━\u001b[0m\u001b[37m\u001b[0m \u001b[1m2s\u001b[0m 4ms/step\n",
            "Classification Report:\n",
            "\n",
            "              precision    recall  f1-score   support\n",
            "\n",
            "       Anger       1.00      1.00      1.00      2235\n",
            "     Disgust       1.00      1.00      1.00      1856\n",
            "        Fear       1.00      1.00      1.00      2264\n",
            "       Happy       1.00      1.00      1.00      1604\n",
            "     Neutral       1.00      1.00      1.00      1322\n",
            "         Sad       1.00      1.00      1.00      2438\n",
            "    Surprise       1.00      1.00      1.00      2230\n",
            "\n",
            "    accuracy                           1.00     13949\n",
            "   macro avg       1.00      1.00      1.00     13949\n",
            "weighted avg       1.00      1.00      1.00     13949\n",
            "\n"
          ]
        }
      ]
    },
    {
      "cell_type": "code",
      "source": [
        "cm = confusion_matrix(y_true_classes, y_pred_classes)\n",
        "\n",
        "plt.figure(figsize=(8, 6))\n",
        "sns.heatmap(cm, annot=True, fmt='d', cmap='Blues',\n",
        "            xticklabels=le.classes_, yticklabels=le.classes_)\n",
        "plt.xlabel('Predicted')\n",
        "plt.ylabel('Actual')\n",
        "plt.title('Confusion Matrix')\n",
        "plt.show()\n"
      ],
      "metadata": {
        "colab": {
          "base_uri": "https://localhost:8080/",
          "height": 564
        },
        "id": "TT3kjAoxzamv",
        "outputId": "e7279572-f97e-4b12-c182-2755b0059c85"
      },
      "execution_count": 23,
      "outputs": [
        {
          "output_type": "display_data",
          "data": {
            "text/plain": [
              "<Figure size 800x600 with 2 Axes>"
            ],
            "image/png": "[encoded data removed]"
          },
          "metadata": {}
        }
      ]
    },
    {
      "cell_type": "code",
      "source": [
        "model.save(\"eeg_emotion_bilstm_model.h5\")\n",
        "print(\"Model saved successfully!\")\n"
      ],
      "metadata": {
        "colab": {
          "base_uri": "https://localhost:8080/"
        },
        "id": "unY-K_TdzeEW",
        "outputId": "3ffbd54e-55e6-49d0-8857-02bcf7cbce62"
      },
      "execution_count": 24,
      "outputs": [
        {
          "output_type": "stream",
          "name": "stderr",
          "text": [
            "WARNING:absl:You are saving your model as an HDF5 file via `model.save()` or `keras.saving.save_model(model)`. This file format is considered legacy. We recommend using instead the native Keras format, e.g. `model.save('my_model.keras')` or `keras.saving.save_model(model, 'my_model.keras')`. \n"
          ]
        },
        {
          "output_type": "stream",
          "name": "stdout",
          "text": [
            "Model saved successfully!\n"
          ]
        }
      ]
    },
    {
      "cell_type": "code",
      "source": [
        "model.summary()\n"
      ],
      "metadata": {
        "colab": {
          "base_uri": "https://localhost:8080/",
          "height": 270
        },
        "id": "pPMfk4wNz2kR",
        "outputId": "2bd426aa-5f4e-4590-9bd7-743fe8f8f384"
      },
      "execution_count": 25,
      "outputs": [
        {
          "output_type": "display_data",
          "data": {
            "text/plain": [
              "\u001b[1mModel: \"sequential_2\"\u001b[0m\n"
            ],
            "text/html": [
              "<pre style=\"white-space:pre;overflow-x:auto;line-height:normal;font-family:Menlo,'DejaVu Sans Mono',consolas,'Courier New',monospace\"><span style=\"font-weight: bold\">Model: \"sequential_2\"</span>\n",
              "</pre>\n"
            ]
          },
          "metadata": {}
        },
        {
          "output_type": "display_data",
          "data": {
            "text/plain": [
              "┏━━━━━━━━━━━━━━━━━━━━━━━━━━━━━━━━━┳━━━━━━━━━━━━━━━━━━━━━━━━┳━━━━━━━━━━━━━━━┓\n",
              "┃\u001b[1m \u001b[0m\u001b[1mLayer (type)                   \u001b[0m\u001b[1m \u001b[0m┃\u001b[1m \u001b[0m\u001b[1mOutput Shape          \u001b[0m\u001b[1m \u001b[0m┃\u001b[1m \u001b[0m\u001b[1m      Param #\u001b[0m\u001b[1m \u001b[0m┃\n",
              "┡━━━━━━━━━━━━━━━━━━━━━━━━━━━━━━━━━╇━━━━━━━━━━━━━━━━━━━━━━━━╇━━━━━━━━━━━━━━━┩\n",
              "│ bidirectional_4 (\u001b[38;5;33mBidirectional\u001b[0m) │ (\u001b[38;5;45mNone\u001b[0m, \u001b[38;5;34m1\u001b[0m, \u001b[38;5;34m128\u001b[0m)         │       \u001b[38;5;34m192,000\u001b[0m │\n",
              "├─────────────────────────────────┼────────────────────────┼───────────────┤\n",
              "│ bidirectional_5 (\u001b[38;5;33mBidirectional\u001b[0m) │ (\u001b[38;5;45mNone\u001b[0m, \u001b[38;5;34m64\u001b[0m)             │        \u001b[38;5;34m41,216\u001b[0m │\n",
              "├─────────────────────────────────┼────────────────────────┼───────────────┤\n",
              "│ dense_4 (\u001b[38;5;33mDense\u001b[0m)                 │ (\u001b[38;5;45mNone\u001b[0m, \u001b[38;5;34m64\u001b[0m)             │         \u001b[38;5;34m4,160\u001b[0m │\n",
              "├─────────────────────────────────┼────────────────────────┼───────────────┤\n",
              "│ dense_5 (\u001b[38;5;33mDense\u001b[0m)                 │ (\u001b[38;5;45mNone\u001b[0m, \u001b[38;5;34m7\u001b[0m)              │           \u001b[38;5;34m455\u001b[0m │\n",
              "└─────────────────────────────────┴────────────────────────┴───────────────┘\n"
            ],
            "text/html": [
              "<pre style=\"white-space:pre;overflow-x:auto;line-height:normal;font-family:Menlo,'DejaVu Sans Mono',consolas,'Courier New',monospace\">┏━━━━━━━━━━━━━━━━━━━━━━━━━━━━━━━━━┳━━━━━━━━━━━━━━━━━━━━━━━━┳━━━━━━━━━━━━━━━┓\n",
              "┃<span style=\"font-weight: bold\"> Layer (type)                    </span>┃<span style=\"font-weight: bold\"> Output Shape           </span>┃<span style=\"font-weight: bold\">       Param # </span>┃\n",
              "┡━━━━━━━━━━━━━━━━━━━━━━━━━━━━━━━━━╇━━━━━━━━━━━━━━━━━━━━━━━━╇━━━━━━━━━━━━━━━┩\n",
              "│ bidirectional_4 (<span style=\"color: #0087ff; text-decoration-color: #0087ff\">Bidirectional</span>) │ (<span style=\"color: #00d7ff; text-decoration-color: #00d7ff\">None</span>, <span style=\"color: #00af00; text-decoration-color: #00af00\">1</span>, <span style=\"color: #00af00; text-decoration-color: #00af00\">128</span>)         │       <span style=\"color: #00af00; text-decoration-color: #00af00\">192,000</span> │\n",
              "├─────────────────────────────────┼────────────────────────┼───────────────┤\n",
              "│ bidirectional_5 (<span style=\"color: #0087ff; text-decoration-color: #0087ff\">Bidirectional</span>) │ (<span style=\"color: #00d7ff; text-decoration-color: #00d7ff\">None</span>, <span style=\"color: #00af00; text-decoration-color: #00af00\">64</span>)             │        <span style=\"color: #00af00; text-decoration-color: #00af00\">41,216</span> │\n",
              "├─────────────────────────────────┼────────────────────────┼───────────────┤\n",
              "│ dense_4 (<span style=\"color: #0087ff; text-decoration-color: #0087ff\">Dense</span>)                 │ (<span style=\"color: #00d7ff; text-decoration-color: #00d7ff\">None</span>, <span style=\"color: #00af00; text-decoration-color: #00af00\">64</span>)             │         <span style=\"color: #00af00; text-decoration-color: #00af00\">4,160</span> │\n",
              "├─────────────────────────────────┼────────────────────────┼───────────────┤\n",
              "│ dense_5 (<span style=\"color: #0087ff; text-decoration-color: #0087ff\">Dense</span>)                 │ (<span style=\"color: #00d7ff; text-decoration-color: #00d7ff\">None</span>, <span style=\"color: #00af00; text-decoration-color: #00af00\">7</span>)              │           <span style=\"color: #00af00; text-decoration-color: #00af00\">455</span> │\n",
              "└─────────────────────────────────┴────────────────────────┴───────────────┘\n",
              "</pre>\n"
            ]
          },
          "metadata": {}
        },
        {
          "output_type": "display_data",
          "data": {
            "text/plain": [
              "\u001b[1m Total params: \u001b[0m\u001b[38;5;34m713,495\u001b[0m (2.72 MB)\n"
            ],
            "text/html": [
              "<pre style=\"white-space:pre;overflow-x:auto;line-height:normal;font-family:Menlo,'DejaVu Sans Mono',consolas,'Courier New',monospace\"><span style=\"font-weight: bold\"> Total params: </span><span style=\"color: #00af00; text-decoration-color: #00af00\">713,495</span> (2.72 MB)\n",
              "</pre>\n"
            ]
          },
          "metadata": {}
        },
        {
          "output_type": "display_data",
          "data": {
            "text/plain": [
              "\u001b[1m Trainable params: \u001b[0m\u001b[38;5;34m237,831\u001b[0m (929.03 KB)\n"
            ],
            "text/html": [
              "<pre style=\"white-space:pre;overflow-x:auto;line-height:normal;font-family:Menlo,'DejaVu Sans Mono',consolas,'Courier New',monospace\"><span style=\"font-weight: bold\"> Trainable params: </span><span style=\"color: #00af00; text-decoration-color: #00af00\">237,831</span> (929.03 KB)\n",
              "</pre>\n"
            ]
          },
          "metadata": {}
        },
        {
          "output_type": "display_data",
          "data": {
            "text/plain": [
              "\u001b[1m Non-trainable params: \u001b[0m\u001b[38;5;34m0\u001b[0m (0.00 B)\n"
            ],
            "text/html": [
              "<pre style=\"white-space:pre;overflow-x:auto;line-height:normal;font-family:Menlo,'DejaVu Sans Mono',consolas,'Courier New',monospace\"><span style=\"font-weight: bold\"> Non-trainable params: </span><span style=\"color: #00af00; text-decoration-color: #00af00\">0</span> (0.00 B)\n",
              "</pre>\n"
            ]
          },
          "metadata": {}
        },
        {
          "output_type": "display_data",
          "data": {
            "text/plain": [
              "\u001b[1m Optimizer params: \u001b[0m\u001b[38;5;34m475,664\u001b[0m (1.81 MB)\n"
            ],
            "text/html": [
              "<pre style=\"white-space:pre;overflow-x:auto;line-height:normal;font-family:Menlo,'DejaVu Sans Mono',consolas,'Courier New',monospace\"><span style=\"font-weight: bold\"> Optimizer params: </span><span style=\"color: #00af00; text-decoration-color: #00af00\">475,664</span> (1.81 MB)\n",
              "</pre>\n"
            ]
          },
          "metadata": {}
        }
      ]
    },
    {
      "cell_type": "code",
      "source": [
        "loaded_model = tf.keras.models.load_model(\"eeg_emotion_bilstm_model.h5\")\n"
      ],
      "metadata": {
        "colab": {
          "base_uri": "https://localhost:8080/"
        },
        "id": "HWq0jujd1K6H",
        "outputId": "13decd2f-b9a2-4f30-aa96-feb855c17159"
      },
      "execution_count": null,
      "outputs": [
        {
          "output_type": "stream",
          "name": "stderr",
          "text": [
            "WARNING:absl:Compiled the loaded model, but the compiled metrics have yet to be built. `model.compile_metrics` will be empty until you train or evaluate the model.\n"
          ]
        }
      ]
    },
    {
      "cell_type": "code",
      "source": [
        "loaded_model.compile(\n",
        "    loss=tf.keras.losses.CategoricalCrossentropy(from_logits=True),\n",
        "    optimizer=tf.keras.optimizers.Adam(),\n",
        "    metrics=['accuracy']\n",
        ")\n"
      ],
      "metadata": {
        "id": "8HDBLr-Q1Oec"
      },
      "execution_count": null,
      "outputs": []
    },
    {
      "cell_type": "code",
      "source": [
        "loss, acc = loaded_model.evaluate(X_test, y_test, verbose=0)\n",
        "print(f\"Test Accuracy: {acc * 100:.2f}%\")\n"
      ],
      "metadata": {
        "colab": {
          "base_uri": "https://localhost:8080/"
        },
        "id": "ZVV_13i71Q9z",
        "outputId": "5a786448-b050-46c4-ca8d-33cf97200522"
      },
      "execution_count": null,
      "outputs": [
        {
          "output_type": "stream",
          "name": "stderr",
          "text": [
            "/usr/local/lib/python3.11/dist-packages/keras/src/backend/tensorflow/nn.py:666: UserWarning: \"`categorical_crossentropy` received `from_logits=True`, but the `output` argument was produced by a Softmax activation and thus does not represent logits. Was this intended?\n",
            "  output, from_logits = _get_logits(\n"
          ]
        },
        {
          "output_type": "stream",
          "name": "stdout",
          "text": [
            "Test Accuracy: 100.00%\n"
          ]
        }
      ]
    },
    {
      "cell_type": "code",
      "source": [
        "# Predict on the dataset (or use a specific sample)\n",
        "predictions = model.predict(X_reshaped)\n",
        "\n",
        "# Convert logits to predicted class labels\n",
        "predicted_classes = np.argmax(predictions, axis=1)\n",
        "\n",
        "# For demonstration, print the first 10 predictions and their corresponding true labels\n",
        "true_classes = np.argmax(y_categorical, axis=1)\n",
        "\n",
        "print(\"Predicted classes: \", predicted_classes[:10])  # First 10 predictions\n",
        "print(\"True classes:     \", true_classes[:10])      # First 10 actual classes\n"
      ],
      "metadata": {
        "colab": {
          "base_uri": "https://localhost:8080/"
        },
        "id": "XrDHeSql38qo",
        "outputId": "5096d768-63bc-4ff6-97dc-62d0f701a327"
      },
      "execution_count": null,
      "outputs": [
        {
          "output_type": "stream",
          "name": "stdout",
          "text": [
            "\u001b[1m2180/2180\u001b[0m \u001b[32m━━━━━━━━━━━━━━━━━━━━\u001b[0m\u001b[37m\u001b[0m \u001b[1m20s\u001b[0m 9ms/step\n",
            "Predicted classes:  [3 3 3 3 3 3 3 3 3 3]\n",
            "True classes:      [3 3 3 3 3 3 3 3 3 3]\n"
          ]
        }
      ]
    },
    {
      "cell_type": "code",
      "source": [
        "import random\n",
        "\n",
        "# Select a random row from the dataset (X_test or the whole dataset)\n",
        "random_idx = random.randint(0, len(X_test) - 1)\n",
        "random_row = X_test[random_idx].reshape(1, 62, 5)  # Reshape to match model input shape\n",
        "\n",
        "# Make a prediction\n",
        "pred_probs = model.predict(random_row)\n",
        "pred_class = np.argmax(pred_probs, axis=1)\n",
        "\n",
        "# Decode the predicted class to emotion label\n",
        "predicted_emotion = le.classes_[pred_class][0]\n",
        "\n",
        "# Print the results\n",
        "print(f\"Random Row Index: {random_idx}\")\n",
        "print(f\"Predicted Emotion: {predicted_emotion}\")\n"
      ],
      "metadata": {
        "colab": {
          "base_uri": "https://localhost:8080/"
        },
        "id": "aKGnnQsd489J",
        "outputId": "944bbd38-914d-4810-b73f-147d3ed29d5a"
      },
      "execution_count": null,
      "outputs": [
        {
          "output_type": "stream",
          "name": "stdout",
          "text": [
            "\u001b[1m1/1\u001b[0m \u001b[32m━━━━━━━━━━━━━━━━━━━━\u001b[0m\u001b[37m\u001b[0m \u001b[1m0s\u001b[0m 35ms/step\n",
            "Random Row Index: 2480\n",
            "Predicted Emotion: Surprise\n"
          ]
        }
      ]
    },
    {
      "cell_type": "code",
      "source": [
        "model.compile(\n",
        "    loss='categorical_crossentropy',\n",
        "    optimizer='adam',\n",
        "    metrics=['accuracy']\n",
        ")\n",
        "\n",
        "history = model.fit(\n",
        "    train_dataset,\n",
        "    epochs=100,\n",
        "    validation_data=test_dataset\n",
        ")"
      ],
      "metadata": {
        "colab": {
          "base_uri": "https://localhost:8080/"
        },
        "id": "r7t3dWHQ6kZk",
        "outputId": "22e92f7a-974e-42d5-c5c8-fc5fcf86d6de"
      },
      "execution_count": null,
      "outputs": [
        {
          "output_type": "stream",
          "name": "stdout",
          "text": [
            "Epoch 1/100\n",
            "\u001b[1m1744/1744\u001b[0m \u001b[32m━━━━━━━━━━━━━━━━━━━━\u001b[0m\u001b[37m\u001b[0m \u001b[1m33s\u001b[0m 17ms/step - accuracy: 0.9882 - loss: 0.0420 - val_accuracy: 0.9951 - val_loss: 0.0152\n",
            "Epoch 2/100\n",
            "\u001b[1m1744/1744\u001b[0m \u001b[32m━━━━━━━━━━━━━━━━━━━━\u001b[0m\u001b[37m\u001b[0m \u001b[1m27s\u001b[0m 16ms/step - accuracy: 0.9987 - loss: 0.0060 - val_accuracy: 1.0000 - val_loss: 1.9137e-04\n",
            "Epoch 3/100\n",
            "\u001b[1m1744/1744\u001b[0m \u001b[32m━━━━━━━━━━━━━━━━━━━━\u001b[0m\u001b[37m\u001b[0m \u001b[1m41s\u001b[0m 16ms/step - accuracy: 1.0000 - loss: 1.4219e-04 - val_accuracy: 1.0000 - val_loss: 8.5238e-05\n",
            "Epoch 4/100\n",
            "\u001b[1m1744/1744\u001b[0m \u001b[32m━━━━━━━━━━━━━━━━━━━━\u001b[0m\u001b[37m\u001b[0m \u001b[1m27s\u001b[0m 16ms/step - accuracy: 1.0000 - loss: 6.6058e-05 - val_accuracy: 1.0000 - val_loss: 4.0948e-05\n",
            "Epoch 5/100\n",
            "\u001b[1m1744/1744\u001b[0m \u001b[32m━━━━━━━━━━━━━━━━━━━━\u001b[0m\u001b[37m\u001b[0m \u001b[1m27s\u001b[0m 16ms/step - accuracy: 1.0000 - loss: 3.1896e-05 - val_accuracy: 1.0000 - val_loss: 1.9213e-05\n",
            "Epoch 6/100\n",
            "\u001b[1m1744/1744\u001b[0m \u001b[32m━━━━━━━━━━━━━━━━━━━━\u001b[0m\u001b[37m\u001b[0m \u001b[1m27s\u001b[0m 16ms/step - accuracy: 1.0000 - loss: 1.4968e-05 - val_accuracy: 1.0000 - val_loss: 8.7354e-06\n",
            "Epoch 7/100\n",
            "\u001b[1m1744/1744\u001b[0m \u001b[32m━━━━━━━━━━━━━━━━━━━━\u001b[0m\u001b[37m\u001b[0m \u001b[1m30s\u001b[0m 17ms/step - accuracy: 1.0000 - loss: 6.7771e-06 - val_accuracy: 1.0000 - val_loss: 3.8310e-06\n",
            "Epoch 8/100\n",
            "\u001b[1m1744/1744\u001b[0m \u001b[32m━━━━━━━━━━━━━━━━━━━━\u001b[0m\u001b[37m\u001b[0m \u001b[1m38s\u001b[0m 16ms/step - accuracy: 1.0000 - loss: 2.9610e-06 - val_accuracy: 1.0000 - val_loss: 1.6354e-06\n",
            "Epoch 9/100\n",
            "\u001b[1m1744/1744\u001b[0m \u001b[32m━━━━━━━━━━━━━━━━━━━━\u001b[0m\u001b[37m\u001b[0m \u001b[1m27s\u001b[0m 15ms/step - accuracy: 1.0000 - loss: 1.2622e-06 - val_accuracy: 1.0000 - val_loss: 6.8699e-07\n",
            "Epoch 10/100\n",
            "\u001b[1m1744/1744\u001b[0m \u001b[32m━━━━━━━━━━━━━━━━━━━━\u001b[0m\u001b[37m\u001b[0m \u001b[1m32s\u001b[0m 18ms/step - accuracy: 1.0000 - loss: 5.2784e-07 - val_accuracy: 1.0000 - val_loss: 2.8753e-07\n",
            "Epoch 11/100\n",
            "\u001b[1m1744/1744\u001b[0m \u001b[32m━━━━━━━━━━━━━━━━━━━━\u001b[0m\u001b[37m\u001b[0m \u001b[1m36s\u001b[0m 16ms/step - accuracy: 1.0000 - loss: 2.2054e-07 - val_accuracy: 1.0000 - val_loss: 1.1913e-07\n",
            "Epoch 12/100\n",
            "\u001b[1m1744/1744\u001b[0m \u001b[32m━━━━━━━━━━━━━━━━━━━━\u001b[0m\u001b[37m\u001b[0m \u001b[1m27s\u001b[0m 15ms/step - accuracy: 1.0000 - loss: 9.0959e-08 - val_accuracy: 1.0000 - val_loss: 4.9584e-08\n",
            "Epoch 13/100\n",
            "\u001b[1m1744/1744\u001b[0m \u001b[32m━━━━━━━━━━━━━━━━━━━━\u001b[0m\u001b[37m\u001b[0m \u001b[1m27s\u001b[0m 15ms/step - accuracy: 0.9988 - loss: 0.0074 - val_accuracy: 0.9053 - val_loss: 0.3224\n",
            "Epoch 14/100\n",
            "\u001b[1m1744/1744\u001b[0m \u001b[32m━━━━━━━━━━━━━━━━━━━━\u001b[0m\u001b[37m\u001b[0m \u001b[1m27s\u001b[0m 15ms/step - accuracy: 0.9796 - loss: 0.0714 - val_accuracy: 1.0000 - val_loss: 8.7221e-04\n",
            "Epoch 15/100\n",
            "\u001b[1m1744/1744\u001b[0m \u001b[32m━━━━━━━━━━━━━━━━━━━━\u001b[0m\u001b[37m\u001b[0m \u001b[1m41s\u001b[0m 16ms/step - accuracy: 1.0000 - loss: 6.5663e-04 - val_accuracy: 1.0000 - val_loss: 3.0012e-04\n",
            "Epoch 16/100\n",
            "\u001b[1m1744/1744\u001b[0m \u001b[32m━━━━━━━━━━━━━━━━━━━━\u001b[0m\u001b[37m\u001b[0m \u001b[1m27s\u001b[0m 16ms/step - accuracy: 1.0000 - loss: 2.3205e-04 - val_accuracy: 1.0000 - val_loss: 1.1720e-04\n",
            "Epoch 17/100\n",
            "\u001b[1m1744/1744\u001b[0m \u001b[32m━━━━━━━━━━━━━━━━━━━━\u001b[0m\u001b[37m\u001b[0m \u001b[1m41s\u001b[0m 15ms/step - accuracy: 1.0000 - loss: 9.2214e-05 - val_accuracy: 1.0000 - val_loss: 4.7842e-05\n",
            "Epoch 18/100\n",
            "\u001b[1m1744/1744\u001b[0m \u001b[32m━━━━━━━━━━━━━━━━━━━━\u001b[0m\u001b[37m\u001b[0m \u001b[1m27s\u001b[0m 16ms/step - accuracy: 1.0000 - loss: 3.7895e-05 - val_accuracy: 1.0000 - val_loss: 1.9792e-05\n",
            "Epoch 19/100\n",
            "\u001b[1m1744/1744\u001b[0m \u001b[32m━━━━━━━━━━━━━━━━━━━━\u001b[0m\u001b[37m\u001b[0m \u001b[1m29s\u001b[0m 17ms/step - accuracy: 1.0000 - loss: 1.5601e-05 - val_accuracy: 1.0000 - val_loss: 8.2074e-06\n",
            "Epoch 20/100\n",
            "\u001b[1m1744/1744\u001b[0m \u001b[32m━━━━━━━━━━━━━━━━━━━━\u001b[0m\u001b[37m\u001b[0m \u001b[1m41s\u001b[0m 17ms/step - accuracy: 1.0000 - loss: 6.4002e-06 - val_accuracy: 1.0000 - val_loss: 3.3513e-06\n",
            "Epoch 21/100\n",
            "\u001b[1m1744/1744\u001b[0m \u001b[32m━━━━━━━━━━━━━━━━━━━━\u001b[0m\u001b[37m\u001b[0m \u001b[1m39s\u001b[0m 16ms/step - accuracy: 1.0000 - loss: 2.6176e-06 - val_accuracy: 1.0000 - val_loss: 1.3805e-06\n",
            "Epoch 22/100\n",
            "\u001b[1m1744/1744\u001b[0m \u001b[32m━━━━━━━━━━━━━━━━━━━━\u001b[0m\u001b[37m\u001b[0m \u001b[1m43s\u001b[0m 17ms/step - accuracy: 1.0000 - loss: 1.0741e-06 - val_accuracy: 1.0000 - val_loss: 5.7135e-07\n",
            "Epoch 23/100\n",
            "\u001b[1m1744/1744\u001b[0m \u001b[32m━━━━━━━━━━━━━━━━━━━━\u001b[0m\u001b[37m\u001b[0m \u001b[1m39s\u001b[0m 15ms/step - accuracy: 1.0000 - loss: 4.4219e-07 - val_accuracy: 1.0000 - val_loss: 2.3756e-07\n",
            "Epoch 24/100\n",
            "\u001b[1m1744/1744\u001b[0m \u001b[32m━━━━━━━━━━━━━━━━━━━━\u001b[0m\u001b[37m\u001b[0m \u001b[1m29s\u001b[0m 17ms/step - accuracy: 1.0000 - loss: 1.8486e-07 - val_accuracy: 1.0000 - val_loss: 9.8357e-08\n",
            "Epoch 25/100\n",
            "\u001b[1m1744/1744\u001b[0m \u001b[32m━━━━━━━━━━━━━━━━━━━━\u001b[0m\u001b[37m\u001b[0m \u001b[1m41s\u001b[0m 17ms/step - accuracy: 1.0000 - loss: 7.5998e-08 - val_accuracy: 1.0000 - val_loss: 3.9423e-08\n",
            "Epoch 26/100\n",
            "\u001b[1m1744/1744\u001b[0m \u001b[32m━━━━━━━━━━━━━━━━━━━━\u001b[0m\u001b[37m\u001b[0m \u001b[1m38s\u001b[0m 15ms/step - accuracy: 1.0000 - loss: 3.0107e-08 - val_accuracy: 1.0000 - val_loss: 1.5921e-08\n",
            "Epoch 27/100\n",
            "\u001b[1m1744/1744\u001b[0m \u001b[32m━━━━━━━━━━━━━━━━━━━━\u001b[0m\u001b[37m\u001b[0m \u001b[1m27s\u001b[0m 16ms/step - accuracy: 1.0000 - loss: 1.1784e-08 - val_accuracy: 1.0000 - val_loss: 6.8881e-09\n",
            "Epoch 28/100\n",
            "\u001b[1m1744/1744\u001b[0m \u001b[32m━━━━━━━━━━━━━━━━━━━━\u001b[0m\u001b[37m\u001b[0m \u001b[1m29s\u001b[0m 17ms/step - accuracy: 1.0000 - loss: 4.8715e-09 - val_accuracy: 1.0000 - val_loss: 3.0082e-09\n",
            "Epoch 29/100\n",
            "\u001b[1m1744/1744\u001b[0m \u001b[32m━━━━━━━━━━━━━━━━━━━━\u001b[0m\u001b[37m\u001b[0m \u001b[1m27s\u001b[0m 16ms/step - accuracy: 0.9974 - loss: 0.0170 - val_accuracy: 0.9668 - val_loss: 0.1142\n",
            "Epoch 30/100\n",
            "\u001b[1m1744/1744\u001b[0m \u001b[32m━━━━━━━━━━━━━━━━━━━━\u001b[0m\u001b[37m\u001b[0m \u001b[1m41s\u001b[0m 15ms/step - accuracy: 0.9912 - loss: 0.0301 - val_accuracy: 1.0000 - val_loss: 7.1195e-04\n",
            "Epoch 31/100\n",
            "\u001b[1m1744/1744\u001b[0m \u001b[32m━━━━━━━━━━━━━━━━━━━━\u001b[0m\u001b[37m\u001b[0m \u001b[1m28s\u001b[0m 16ms/step - accuracy: 1.0000 - loss: 5.3451e-04 - val_accuracy: 1.0000 - val_loss: 2.6257e-04\n",
            "Epoch 32/100\n",
            "\u001b[1m1744/1744\u001b[0m \u001b[32m━━━━━━━━━━━━━━━━━━━━\u001b[0m\u001b[37m\u001b[0m \u001b[1m30s\u001b[0m 17ms/step - accuracy: 1.0000 - loss: 1.9946e-04 - val_accuracy: 1.0000 - val_loss: 1.0791e-04\n",
            "Epoch 33/100\n",
            "\u001b[1m1744/1744\u001b[0m \u001b[32m━━━━━━━━━━━━━━━━━━━━\u001b[0m\u001b[37m\u001b[0m \u001b[1m38s\u001b[0m 16ms/step - accuracy: 1.0000 - loss: 8.2472e-05 - val_accuracy: 1.0000 - val_loss: 4.5799e-05\n",
            "Epoch 34/100\n",
            "\u001b[1m1744/1744\u001b[0m \u001b[32m━━━━━━━━━━━━━━━━━━━━\u001b[0m\u001b[37m\u001b[0m \u001b[1m42s\u001b[0m 16ms/step - accuracy: 1.0000 - loss: 3.4888e-05 - val_accuracy: 1.0000 - val_loss: 1.9354e-05\n",
            "Epoch 35/100\n",
            "\u001b[1m1744/1744\u001b[0m \u001b[32m━━━━━━━━━━━━━━━━━━━━\u001b[0m\u001b[37m\u001b[0m \u001b[1m30s\u001b[0m 17ms/step - accuracy: 1.0000 - loss: 1.4830e-05 - val_accuracy: 1.0000 - val_loss: 8.1652e-06\n",
            "Epoch 36/100\n",
            "\u001b[1m1744/1744\u001b[0m \u001b[32m━━━━━━━━━━━━━━━━━━━━\u001b[0m\u001b[37m\u001b[0m \u001b[1m39s\u001b[0m 16ms/step - accuracy: 1.0000 - loss: 6.2391e-06 - val_accuracy: 1.0000 - val_loss: 3.4233e-06\n",
            "Epoch 37/100\n",
            "\u001b[1m1744/1744\u001b[0m \u001b[32m━━━━━━━━━━━━━━━━━━━━\u001b[0m\u001b[37m\u001b[0m \u001b[1m43s\u001b[0m 17ms/step - accuracy: 1.0000 - loss: 2.6078e-06 - val_accuracy: 1.0000 - val_loss: 1.4225e-06\n",
            "Epoch 38/100\n",
            "\u001b[1m1744/1744\u001b[0m \u001b[32m━━━━━━━━━━━━━━━━━━━━\u001b[0m\u001b[37m\u001b[0m \u001b[1m38s\u001b[0m 15ms/step - accuracy: 1.0000 - loss: 1.0881e-06 - val_accuracy: 1.0000 - val_loss: 5.9067e-07\n",
            "Epoch 39/100\n",
            "\u001b[1m1744/1744\u001b[0m \u001b[32m━━━━━━━━━━━━━━━━━━━━\u001b[0m\u001b[37m\u001b[0m \u001b[1m27s\u001b[0m 16ms/step - accuracy: 1.0000 - loss: 4.5124e-07 - val_accuracy: 1.0000 - val_loss: 2.4435e-07\n",
            "Epoch 40/100\n",
            "\u001b[1m1744/1744\u001b[0m \u001b[32m━━━━━━━━━━━━━━━━━━━━\u001b[0m\u001b[37m\u001b[0m \u001b[1m42s\u001b[0m 16ms/step - accuracy: 1.0000 - loss: 1.8592e-07 - val_accuracy: 1.0000 - val_loss: 1.0081e-07\n",
            "Epoch 41/100\n",
            "\u001b[1m1744/1744\u001b[0m \u001b[32m━━━━━━━━━━━━━━━━━━━━\u001b[0m\u001b[37m\u001b[0m \u001b[1m27s\u001b[0m 16ms/step - accuracy: 1.0000 - loss: 7.5932e-08 - val_accuracy: 1.0000 - val_loss: 4.0457e-08\n",
            "Epoch 42/100\n",
            "\u001b[1m1744/1744\u001b[0m \u001b[32m━━━━━━━━━━━━━━━━━━━━\u001b[0m\u001b[37m\u001b[0m \u001b[1m43s\u001b[0m 17ms/step - accuracy: 1.0000 - loss: 3.0059e-08 - val_accuracy: 1.0000 - val_loss: 1.6135e-08\n",
            "Epoch 43/100\n",
            "\u001b[1m1744/1744\u001b[0m \u001b[32m━━━━━━━━━━━━━━━━━━━━\u001b[0m\u001b[37m\u001b[0m \u001b[1m28s\u001b[0m 16ms/step - accuracy: 1.0000 - loss: 1.1172e-08 - val_accuracy: 1.0000 - val_loss: 5.8712e-09\n",
            "Epoch 44/100\n",
            "\u001b[1m1744/1744\u001b[0m \u001b[32m━━━━━━━━━━━━━━━━━━━━\u001b[0m\u001b[37m\u001b[0m \u001b[1m27s\u001b[0m 16ms/step - accuracy: 1.0000 - loss: 4.1953e-09 - val_accuracy: 1.0000 - val_loss: 3.0253e-09\n",
            "Epoch 45/100\n",
            "\u001b[1m1744/1744\u001b[0m \u001b[32m━━━━━━━━━━━━━━━━━━━━\u001b[0m\u001b[37m\u001b[0m \u001b[1m27s\u001b[0m 16ms/step - accuracy: 0.9959 - loss: 0.0232 - val_accuracy: 0.9884 - val_loss: 0.0450\n",
            "Epoch 46/100\n",
            "\u001b[1m1744/1744\u001b[0m \u001b[32m━━━━━━━━━━━━━━━━━━━━\u001b[0m\u001b[37m\u001b[0m \u001b[1m44s\u001b[0m 17ms/step - accuracy: 0.9965 - loss: 0.0138 - val_accuracy: 1.0000 - val_loss: 4.6090e-04\n",
            "Epoch 47/100\n",
            "\u001b[1m1744/1744\u001b[0m \u001b[32m━━━━━━━━━━━━━━━━━━━━\u001b[0m\u001b[37m\u001b[0m \u001b[1m38s\u001b[0m 15ms/step - accuracy: 1.0000 - loss: 3.5479e-04 - val_accuracy: 1.0000 - val_loss: 1.7358e-04\n",
            "Epoch 48/100\n",
            "\u001b[1m1744/1744\u001b[0m \u001b[32m━━━━━━━━━━━━━━━━━━━━\u001b[0m\u001b[37m\u001b[0m \u001b[1m27s\u001b[0m 16ms/step - accuracy: 1.0000 - loss: 1.3603e-04 - val_accuracy: 1.0000 - val_loss: 7.2517e-05\n",
            "Epoch 49/100\n",
            "\u001b[1m1744/1744\u001b[0m \u001b[32m━━━━━━━━━━━━━━━━━━━━\u001b[0m\u001b[37m\u001b[0m \u001b[1m41s\u001b[0m 16ms/step - accuracy: 1.0000 - loss: 5.7641e-05 - val_accuracy: 1.0000 - val_loss: 3.1502e-05\n",
            "Epoch 50/100\n",
            "\u001b[1m1744/1744\u001b[0m \u001b[32m━━━━━━━━━━━━━━━━━━━━\u001b[0m\u001b[37m\u001b[0m \u001b[1m27s\u001b[0m 16ms/step - accuracy: 1.0000 - loss: 2.5088e-05 - val_accuracy: 1.0000 - val_loss: 1.3722e-05\n",
            "Epoch 51/100\n",
            "\u001b[1m1744/1744\u001b[0m \u001b[32m━━━━━━━━━━━━━━━━━━━━\u001b[0m\u001b[37m\u001b[0m \u001b[1m27s\u001b[0m 15ms/step - accuracy: 1.0000 - loss: 1.0848e-05 - val_accuracy: 1.0000 - val_loss: 5.9040e-06\n",
            "Epoch 52/100\n",
            "\u001b[1m1744/1744\u001b[0m \u001b[32m━━━━━━━━━━━━━━━━━━━━\u001b[0m\u001b[37m\u001b[0m \u001b[1m30s\u001b[0m 17ms/step - accuracy: 1.0000 - loss: 4.6326e-06 - val_accuracy: 1.0000 - val_loss: 2.4986e-06\n",
            "Epoch 53/100\n",
            "\u001b[1m1744/1744\u001b[0m \u001b[32m━━━━━━━━━━━━━━━━━━━━\u001b[0m\u001b[37m\u001b[0m \u001b[1m39s\u001b[0m 16ms/step - accuracy: 1.0000 - loss: 1.9456e-06 - val_accuracy: 1.0000 - val_loss: 1.0563e-06\n",
            "Epoch 54/100\n",
            "\u001b[1m1744/1744\u001b[0m \u001b[32m━━━━━━━━━━━━━━━━━━━━\u001b[0m\u001b[37m\u001b[0m \u001b[1m27s\u001b[0m 16ms/step - accuracy: 0.9893 - loss: 0.0524 - val_accuracy: 0.9991 - val_loss: 0.0040\n",
            "Epoch 55/100\n",
            "\u001b[1m1744/1744\u001b[0m \u001b[32m━━━━━━━━━━━━━━━━━━━━\u001b[0m\u001b[37m\u001b[0m \u001b[1m45s\u001b[0m 18ms/step - accuracy: 0.9996 - loss: 0.0024 - val_accuracy: 1.0000 - val_loss: 3.5779e-04\n",
            "Epoch 56/100\n",
            "\u001b[1m1744/1744\u001b[0m \u001b[32m━━━━━━━━━━━━━━━━━━━━\u001b[0m\u001b[37m\u001b[0m \u001b[1m28s\u001b[0m 16ms/step - accuracy: 1.0000 - loss: 2.6264e-04 - val_accuracy: 1.0000 - val_loss: 1.3977e-04\n",
            "Epoch 57/100\n",
            "\u001b[1m1744/1744\u001b[0m \u001b[32m━━━━━━━━━━━━━━━━━━━━\u001b[0m\u001b[37m\u001b[0m \u001b[1m40s\u001b[0m 16ms/step - accuracy: 1.0000 - loss: 1.0534e-04 - val_accuracy: 1.0000 - val_loss: 5.8512e-05\n",
            "Epoch 58/100\n",
            "\u001b[1m1744/1744\u001b[0m \u001b[32m━━━━━━━━━━━━━━━━━━━━\u001b[0m\u001b[37m\u001b[0m \u001b[1m41s\u001b[0m 16ms/step - accuracy: 1.0000 - loss: 4.4294e-05 - val_accuracy: 1.0000 - val_loss: 2.4905e-05\n",
            "Epoch 59/100\n",
            "\u001b[1m1744/1744\u001b[0m \u001b[32m━━━━━━━━━━━━━━━━━━━━\u001b[0m\u001b[37m\u001b[0m \u001b[1m41s\u001b[0m 16ms/step - accuracy: 1.0000 - loss: 1.8906e-05 - val_accuracy: 1.0000 - val_loss: 1.0686e-05\n",
            "Epoch 60/100\n",
            "\u001b[1m1744/1744\u001b[0m \u001b[32m━━━━━━━━━━━━━━━━━━━━\u001b[0m\u001b[37m\u001b[0m \u001b[1m27s\u001b[0m 16ms/step - accuracy: 1.0000 - loss: 8.0963e-06 - val_accuracy: 1.0000 - val_loss: 4.5283e-06\n",
            "Epoch 61/100\n",
            "\u001b[1m1744/1744\u001b[0m \u001b[32m━━━━━━━━━━━━━━━━━━━━\u001b[0m\u001b[37m\u001b[0m \u001b[1m41s\u001b[0m 16ms/step - accuracy: 1.0000 - loss: 3.4468e-06 - val_accuracy: 1.0000 - val_loss: 1.8894e-06\n",
            "Epoch 62/100\n",
            "\u001b[1m1744/1744\u001b[0m \u001b[32m━━━━━━━━━━━━━━━━━━━━\u001b[0m\u001b[37m\u001b[0m \u001b[1m43s\u001b[0m 17ms/step - accuracy: 1.0000 - loss: 1.4456e-06 - val_accuracy: 1.0000 - val_loss: 7.8770e-07\n",
            "Epoch 63/100\n",
            "\u001b[1m1744/1744\u001b[0m \u001b[32m━━━━━━━━━━━━━━━━━━━━\u001b[0m\u001b[37m\u001b[0m \u001b[1m31s\u001b[0m 18ms/step - accuracy: 1.0000 - loss: 6.0391e-07 - val_accuracy: 1.0000 - val_loss: 3.2845e-07\n",
            "Epoch 64/100\n",
            "\u001b[1m1744/1744\u001b[0m \u001b[32m━━━━━━━━━━━━━━━━━━━━\u001b[0m\u001b[37m\u001b[0m \u001b[1m40s\u001b[0m 17ms/step - accuracy: 1.0000 - loss: 2.5042e-07 - val_accuracy: 1.0000 - val_loss: 1.3569e-07\n",
            "Epoch 65/100\n",
            "\u001b[1m1744/1744\u001b[0m \u001b[32m━━━━━━━━━━━━━━━━━━━━\u001b[0m\u001b[37m\u001b[0m \u001b[1m38s\u001b[0m 16ms/step - accuracy: 1.0000 - loss: 1.0338e-07 - val_accuracy: 1.0000 - val_loss: 5.6156e-08\n",
            "Epoch 66/100\n",
            "\u001b[1m1744/1744\u001b[0m \u001b[32m━━━━━━━━━━━━━━━━━━━━\u001b[0m\u001b[37m\u001b[0m \u001b[1m27s\u001b[0m 16ms/step - accuracy: 1.0000 - loss: 4.1762e-08 - val_accuracy: 1.0000 - val_loss: 2.2724e-08\n",
            "Epoch 67/100\n",
            "\u001b[1m1744/1744\u001b[0m \u001b[32m━━━━━━━━━━━━━━━━━━━━\u001b[0m\u001b[37m\u001b[0m \u001b[1m27s\u001b[0m 16ms/step - accuracy: 1.0000 - loss: 1.6275e-08 - val_accuracy: 1.0000 - val_loss: 9.0332e-09\n",
            "Epoch 68/100\n",
            "\u001b[1m1744/1744\u001b[0m \u001b[32m━━━━━━━━━━━━━━━━━━━━\u001b[0m\u001b[37m\u001b[0m \u001b[1m41s\u001b[0m 16ms/step - accuracy: 1.0000 - loss: 6.0701e-09 - val_accuracy: 1.0000 - val_loss: 5.1704e-09\n",
            "Epoch 69/100\n",
            "\u001b[1m1744/1744\u001b[0m \u001b[32m━━━━━━━━━━━━━━━━━━━━\u001b[0m\u001b[37m\u001b[0m \u001b[1m27s\u001b[0m 16ms/step - accuracy: 1.0000 - loss: 2.8529e-09 - val_accuracy: 1.0000 - val_loss: 2.2220e-09\n",
            "Epoch 70/100\n",
            "\u001b[1m1744/1744\u001b[0m \u001b[32m━━━━━━━━━━━━━━━━━━━━\u001b[0m\u001b[37m\u001b[0m \u001b[1m27s\u001b[0m 16ms/step - accuracy: 0.9813 - loss: 0.1042 - val_accuracy: 0.9998 - val_loss: 0.0014\n",
            "Epoch 71/100\n",
            "\u001b[1m1744/1744\u001b[0m \u001b[32m━━━━━━━━━━━━━━━━━━━━\u001b[0m\u001b[37m\u001b[0m \u001b[1m44s\u001b[0m 17ms/step - accuracy: 1.0000 - loss: 7.7550e-04 - val_accuracy: 1.0000 - val_loss: 2.9404e-04\n",
            "Epoch 72/100\n",
            "\u001b[1m1744/1744\u001b[0m \u001b[32m━━━━━━━━━━━━━━━━━━━━\u001b[0m\u001b[37m\u001b[0m \u001b[1m31s\u001b[0m 18ms/step - accuracy: 1.0000 - loss: 2.2572e-04 - val_accuracy: 1.0000 - val_loss: 1.2114e-04\n",
            "Epoch 73/100\n",
            "\u001b[1m1744/1744\u001b[0m \u001b[32m━━━━━━━━━━━━━━━━━━━━\u001b[0m\u001b[37m\u001b[0m \u001b[1m30s\u001b[0m 17ms/step - accuracy: 1.0000 - loss: 9.2519e-05 - val_accuracy: 1.0000 - val_loss: 5.2609e-05\n",
            "Epoch 74/100\n",
            "\u001b[1m1744/1744\u001b[0m \u001b[32m━━━━━━━━━━━━━━━━━━━━\u001b[0m\u001b[37m\u001b[0m \u001b[1m38s\u001b[0m 16ms/step - accuracy: 1.0000 - loss: 3.9650e-05 - val_accuracy: 1.0000 - val_loss: 2.3100e-05\n",
            "Epoch 75/100\n",
            "\u001b[1m1744/1744\u001b[0m \u001b[32m━━━━━━━━━━━━━━━━━━━━\u001b[0m\u001b[37m\u001b[0m \u001b[1m27s\u001b[0m 16ms/step - accuracy: 1.0000 - loss: 1.6981e-05 - val_accuracy: 1.0000 - val_loss: 1.0132e-05\n",
            "Epoch 76/100\n",
            "\u001b[1m1744/1744\u001b[0m \u001b[32m━━━━━━━━━━━━━━━━━━━━\u001b[0m\u001b[37m\u001b[0m \u001b[1m47s\u001b[0m 19ms/step - accuracy: 1.0000 - loss: 7.2554e-06 - val_accuracy: 1.0000 - val_loss: 4.3997e-06\n",
            "Epoch 77/100\n",
            "\u001b[1m1744/1744\u001b[0m \u001b[32m━━━━━━━━━━━━━━━━━━━━\u001b[0m\u001b[37m\u001b[0m \u001b[1m42s\u001b[0m 19ms/step - accuracy: 1.0000 - loss: 3.1208e-06 - val_accuracy: 1.0000 - val_loss: 1.9109e-06\n",
            "Epoch 78/100\n",
            "\u001b[1m1744/1744\u001b[0m \u001b[32m━━━━━━━━━━━━━━━━━━━━\u001b[0m\u001b[37m\u001b[0m \u001b[1m32s\u001b[0m 19ms/step - accuracy: 1.0000 - loss: 1.3403e-06 - val_accuracy: 1.0000 - val_loss: 7.9300e-07\n",
            "Epoch 79/100\n",
            "\u001b[1m1744/1744\u001b[0m \u001b[32m━━━━━━━━━━━━━━━━━━━━\u001b[0m\u001b[37m\u001b[0m \u001b[1m44s\u001b[0m 20ms/step - accuracy: 1.0000 - loss: 5.6192e-07 - val_accuracy: 1.0000 - val_loss: 3.4377e-07\n",
            "Epoch 80/100\n",
            "\u001b[1m1744/1744\u001b[0m \u001b[32m━━━━━━━━━━━━━━━━━━━━\u001b[0m\u001b[37m\u001b[0m \u001b[1m31s\u001b[0m 18ms/step - accuracy: 1.0000 - loss: 2.3727e-07 - val_accuracy: 1.0000 - val_loss: 1.4205e-07\n",
            "Epoch 81/100\n",
            "\u001b[1m1744/1744\u001b[0m \u001b[32m━━━━━━━━━━━━━━━━━━━━\u001b[0m\u001b[37m\u001b[0m \u001b[1m30s\u001b[0m 17ms/step - accuracy: 1.0000 - loss: 9.8598e-08 - val_accuracy: 1.0000 - val_loss: 6.0609e-08\n",
            "Epoch 82/100\n",
            "\u001b[1m1744/1744\u001b[0m \u001b[32m━━━━━━━━━━━━━━━━━━━━\u001b[0m\u001b[37m\u001b[0m \u001b[1m39s\u001b[0m 16ms/step - accuracy: 1.0000 - loss: 4.0674e-08 - val_accuracy: 1.0000 - val_loss: 2.3775e-08\n",
            "Epoch 83/100\n",
            "\u001b[1m1744/1744\u001b[0m \u001b[32m━━━━━━━━━━━━━━━━━━━━\u001b[0m\u001b[37m\u001b[0m \u001b[1m27s\u001b[0m 16ms/step - accuracy: 1.0000 - loss: 1.5531e-08 - val_accuracy: 1.0000 - val_loss: 1.0358e-08\n",
            "Epoch 84/100\n",
            "\u001b[1m1744/1744\u001b[0m \u001b[32m━━━━━━━━━━━━━━━━━━━━\u001b[0m\u001b[37m\u001b[0m \u001b[1m41s\u001b[0m 16ms/step - accuracy: 1.0000 - loss: 6.1343e-09 - val_accuracy: 1.0000 - val_loss: 4.7260e-09\n",
            "Epoch 85/100\n",
            "\u001b[1m1744/1744\u001b[0m \u001b[32m━━━━━━━━━━━━━━━━━━━━\u001b[0m\u001b[37m\u001b[0m \u001b[1m28s\u001b[0m 16ms/step - accuracy: 0.9733 - loss: 0.1491 - val_accuracy: 1.0000 - val_loss: 6.8406e-04\n",
            "Epoch 86/100\n",
            "\u001b[1m1744/1744\u001b[0m \u001b[32m━━━━━━━━━━━━━━━━━━━━\u001b[0m\u001b[37m\u001b[0m \u001b[1m30s\u001b[0m 17ms/step - accuracy: 1.0000 - loss: 5.4395e-04 - val_accuracy: 1.0000 - val_loss: 1.8402e-04\n",
            "Epoch 87/100\n",
            "\u001b[1m1744/1744\u001b[0m \u001b[32m━━━━━━━━━━━━━━━━━━━━\u001b[0m\u001b[37m\u001b[0m \u001b[1m30s\u001b[0m 17ms/step - accuracy: 1.0000 - loss: 1.4078e-04 - val_accuracy: 1.0000 - val_loss: 7.9005e-05\n",
            "Epoch 88/100\n",
            "\u001b[1m1744/1744\u001b[0m \u001b[32m━━━━━━━━━━━━━━━━━━━━\u001b[0m\u001b[37m\u001b[0m \u001b[1m39s\u001b[0m 16ms/step - accuracy: 1.0000 - loss: 6.1183e-05 - val_accuracy: 1.0000 - val_loss: 3.5402e-05\n",
            "Epoch 89/100\n",
            "\u001b[1m1744/1744\u001b[0m \u001b[32m━━━━━━━━━━━━━━━━━━━━\u001b[0m\u001b[37m\u001b[0m \u001b[1m28s\u001b[0m 16ms/step - accuracy: 1.0000 - loss: 2.7067e-05 - val_accuracy: 1.0000 - val_loss: 1.5530e-05\n",
            "Epoch 90/100\n",
            "\u001b[1m1744/1744\u001b[0m \u001b[32m━━━━━━━━━━━━━━━━━━━━\u001b[0m\u001b[37m\u001b[0m \u001b[1m28s\u001b[0m 16ms/step - accuracy: 1.0000 - loss: 1.1889e-05 - val_accuracy: 1.0000 - val_loss: 6.7458e-06\n",
            "Epoch 91/100\n",
            "\u001b[1m1744/1744\u001b[0m \u001b[32m━━━━━━━━━━━━━━━━━━━━\u001b[0m\u001b[37m\u001b[0m \u001b[1m43s\u001b[0m 17ms/step - accuracy: 1.0000 - loss: 5.1666e-06 - val_accuracy: 1.0000 - val_loss: 2.8915e-06\n",
            "Epoch 92/100\n",
            "\u001b[1m1744/1744\u001b[0m \u001b[32m━━━━━━━━━━━━━━━━━━━━\u001b[0m\u001b[37m\u001b[0m \u001b[1m27s\u001b[0m 16ms/step - accuracy: 1.0000 - loss: 2.2170e-06 - val_accuracy: 1.0000 - val_loss: 1.2323e-06\n",
            "Epoch 93/100\n",
            "\u001b[1m1744/1744\u001b[0m \u001b[32m━━━━━━━━━━━━━━━━━━━━\u001b[0m\u001b[37m\u001b[0m \u001b[1m41s\u001b[0m 16ms/step - accuracy: 1.0000 - loss: 9.4321e-07 - val_accuracy: 1.0000 - val_loss: 5.2521e-07\n",
            "Epoch 94/100\n",
            "\u001b[1m1744/1744\u001b[0m \u001b[32m━━━━━━━━━━━━━━━━━━━━\u001b[0m\u001b[37m\u001b[0m \u001b[1m28s\u001b[0m 16ms/step - accuracy: 1.0000 - loss: 4.0104e-07 - val_accuracy: 1.0000 - val_loss: 2.2441e-07\n",
            "Epoch 95/100\n",
            "\u001b[1m1744/1744\u001b[0m \u001b[32m━━━━━━━━━━━━━━━━━━━━\u001b[0m\u001b[37m\u001b[0m \u001b[1m27s\u001b[0m 16ms/step - accuracy: 1.0000 - loss: 1.6965e-07 - val_accuracy: 1.0000 - val_loss: 9.5297e-08\n",
            "Epoch 96/100\n",
            "\u001b[1m1744/1744\u001b[0m \u001b[32m━━━━━━━━━━━━━━━━━━━━\u001b[0m\u001b[37m\u001b[0m \u001b[1m27s\u001b[0m 16ms/step - accuracy: 1.0000 - loss: 7.1048e-08 - val_accuracy: 1.0000 - val_loss: 3.9432e-08\n",
            "Epoch 97/100\n",
            "\u001b[1m1744/1744\u001b[0m \u001b[32m━━━━━━━━━━━━━━━━━━━━\u001b[0m\u001b[37m\u001b[0m \u001b[1m27s\u001b[0m 16ms/step - accuracy: 1.0000 - loss: 2.8383e-08 - val_accuracy: 1.0000 - val_loss: 1.6101e-08\n",
            "Epoch 98/100\n",
            "\u001b[1m1744/1744\u001b[0m \u001b[32m━━━━━━━━━━━━━━━━━━━━\u001b[0m\u001b[37m\u001b[0m \u001b[1m45s\u001b[0m 18ms/step - accuracy: 1.0000 - loss: 1.0958e-08 - val_accuracy: 1.0000 - val_loss: 6.8112e-09\n",
            "Epoch 99/100\n",
            "\u001b[1m1744/1744\u001b[0m \u001b[32m━━━━━━━━━━━━━━━━━━━━\u001b[0m\u001b[37m\u001b[0m \u001b[1m31s\u001b[0m 18ms/step - accuracy: 1.0000 - loss: 4.4394e-09 - val_accuracy: 1.0000 - val_loss: 3.9312e-09\n",
            "Epoch 100/100\n",
            "\u001b[1m1744/1744\u001b[0m \u001b[32m━━━━━━━━━━━━━━━━━━━━\u001b[0m\u001b[37m\u001b[0m \u001b[1m42s\u001b[0m 19ms/step - accuracy: 0.9936 - loss: 0.0358 - val_accuracy: 0.9992 - val_loss: 0.0034\n"
          ]
        }
      ]
    },
    {
      "cell_type": "code",
      "source": [
        "test_loss, test_accuracy = model.evaluate(X_test, y_test, verbose=0)\n",
        "print(f\"Test Accuracy: {test_accuracy*100:.2f}\")\n"
      ],
      "metadata": {
        "colab": {
          "base_uri": "https://localhost:8080/"
        },
        "id": "QezKUC8pEYot",
        "outputId": "847968d6-41b2-447c-a1e4-697cb8bb6846"
      },
      "execution_count": null,
      "outputs": [
        {
          "output_type": "stream",
          "name": "stdout",
          "text": [
            "Test Accuracy: 99.92\n"
          ]
        }
      ]
    },
    {
      "cell_type": "code",
      "source": [
        "history_dict = history.history\n",
        "acc, val_acc = history_dict['accuracy'], history_dict['val_accuracy']\n",
        "loss, val_loss = history_dict['loss'], history_dict['val_loss']\n",
        "\n",
        "plt.figure(figsize=(10, 5))\n",
        "\n",
        "plt.subplot(1, 2, 1)\n",
        "plt.plot(acc, marker='o')\n",
        "plt.plot(val_acc, marker='x')\n",
        "plt.title('Training & Validation Accuracy')\n",
        "plt.xlabel('Epochs')\n",
        "plt.ylabel('Accuracy')\n",
        "plt.legend(['Train', 'Validation'])\n",
        "\n",
        "plt.subplot(1, 2, 2)\n",
        "plt.plot(loss, marker='o')\n",
        "plt.plot(val_loss, marker='x')\n",
        "plt.title('Training & Validation Loss')\n",
        "plt.xlabel('Epochs')\n",
        "plt.ylabel('Loss')\n",
        "plt.legend(['Train', 'Validation'])\n",
        "\n",
        "plt.tight_layout()\n",
        "plt.show()\n"
      ],
      "metadata": {
        "colab": {
          "base_uri": "https://localhost:8080/",
          "height": 507
        },
        "id": "XSBHgnZMEj-W",
        "outputId": "334bc442-8ac9-43ea-a72e-730ffed76f62"
      },
      "execution_count": null,
      "outputs": [
        {
          "output_type": "display_data",
          "data": {
            "text/plain": [
              "<Figure size 1000x500 with 2 Axes>"
            ],
            "image/png": "[encoded data removed]"
          },
          "metadata": {}
        }
      ]
    },
    {
      "cell_type": "code",
      "source": [
        "# Predict on test data\n",
        "y_pred_probs = model.predict(X_test)\n",
        "y_pred_classes = np.argmax(y_pred_probs, axis=1)\n",
        "y_true_classes = np.argmax(y_test, axis=1)\n",
        "\n",
        "# Classification report\n",
        "print(\"Classification Report:\\n\")\n",
        "print(classification_report(y_true_classes, y_pred_classes, target_names=le.classes_))\n"
      ],
      "metadata": {
        "colab": {
          "base_uri": "https://localhost:8080/"
        },
        "id": "1bDPBK6REoBv",
        "outputId": "d7e76d20-6d26-46f9-9cde-344ed357dbe3"
      },
      "execution_count": null,
      "outputs": [
        {
          "output_type": "stream",
          "name": "stdout",
          "text": [
            "\u001b[1m436/436\u001b[0m \u001b[32m━━━━━━━━━━━━━━━━━━━━\u001b[0m\u001b[37m\u001b[0m \u001b[1m3s\u001b[0m 6ms/step\n",
            "Classification Report:\n",
            "\n",
            "              precision    recall  f1-score   support\n",
            "\n",
            "       Anger       1.00      1.00      1.00      2235\n",
            "     Disgust       1.00      1.00      1.00      1856\n",
            "        Fear       1.00      1.00      1.00      2264\n",
            "       Happy       1.00      1.00      1.00      1604\n",
            "     Neutral       1.00      1.00      1.00      1322\n",
            "         Sad       1.00      1.00      1.00      2438\n",
            "    Surprise       1.00      1.00      1.00      2230\n",
            "\n",
            "    accuracy                           1.00     13949\n",
            "   macro avg       1.00      1.00      1.00     13949\n",
            "weighted avg       1.00      1.00      1.00     13949\n",
            "\n"
          ]
        }
      ]
    },
    {
      "cell_type": "code",
      "source": [
        "cm = confusion_matrix(y_true_classes, y_pred_classes)\n",
        "\n",
        "plt.figure(figsize=(8, 6))\n",
        "sns.heatmap(cm, annot=True, fmt='d', cmap='Blues',\n",
        "            xticklabels=le.classes_, yticklabels=le.classes_)\n",
        "plt.xlabel('Predicted')\n",
        "plt.ylabel('Actual')\n",
        "plt.title('Confusion Matrix')\n",
        "plt.show()\n"
      ],
      "metadata": {
        "colab": {
          "base_uri": "https://localhost:8080/",
          "height": 564
        },
        "id": "YsDVCP2AErq9",
        "outputId": "2365fbf6-c13b-4e1d-9596-8e52f8cf7792"
      },
      "execution_count": null,
      "outputs": [
        {
          "output_type": "display_data",
          "data": {
            "text/plain": [
              "<Figure size 800x600 with 2 Axes>"
            ],
            "image/png": "[encoded data removed]"
          },
          "metadata": {}
        }
      ]
    },
    {
      "cell_type": "code",
      "source": [
        "model.save(\"eeg_emotion_bilstm_model(100e).h5\")\n",
        "print(\"Model saved successfully!\")\n"
      ],
      "metadata": {
        "colab": {
          "base_uri": "https://localhost:8080/"
        },
        "id": "v_g5LM3dEvft",
        "outputId": "ec2da34a-5ee4-4350-adba-fc94fc4d239b"
      },
      "execution_count": null,
      "outputs": [
        {
          "output_type": "stream",
          "name": "stderr",
          "text": [
            "WARNING:absl:You are saving your model as an HDF5 file via `model.save()` or `keras.saving.save_model(model)`. This file format is considered legacy. We recommend using instead the native Keras format, e.g. `model.save('my_model.keras')` or `keras.saving.save_model(model, 'my_model.keras')`. \n"
          ]
        },
        {
          "output_type": "stream",
          "name": "stdout",
          "text": [
            "Model saved successfully!\n"
          ]
        }
      ]
    },
    {
      "cell_type": "code",
      "source": [
        "model.summary()\n"
      ],
      "metadata": {
        "colab": {
          "base_uri": "https://localhost:8080/",
          "height": 273
        },
        "id": "mGBnOK9xE1d5",
        "outputId": "935475ea-709f-47be-a3fd-871860d947ed"
      },
      "execution_count": null,
      "outputs": [
        {
          "output_type": "display_data",
          "data": {
            "text/plain": [
              "\u001b[1mModel: \"sequential\"\u001b[0m\n"
            ],
            "text/html": [
              "<pre style=\"white-space:pre;overflow-x:auto;line-height:normal;font-family:Menlo,'DejaVu Sans Mono',consolas,'Courier New',monospace\"><span style=\"font-weight: bold\">Model: \"sequential\"</span>\n",
              "</pre>\n"
            ]
          },
          "metadata": {}
        },
        {
          "output_type": "display_data",
          "data": {
            "text/plain": [
              "┏━━━━━━━━━━━━━━━━━━━━━━━━━━━━━━━━━┳━━━━━━━━━━━━━━━━━━━━━━━━┳━━━━━━━━━━━━━━━┓\n",
              "┃\u001b[1m \u001b[0m\u001b[1mLayer (type)                   \u001b[0m\u001b[1m \u001b[0m┃\u001b[1m \u001b[0m\u001b[1mOutput Shape          \u001b[0m\u001b[1m \u001b[0m┃\u001b[1m \u001b[0m\u001b[1m      Param #\u001b[0m\u001b[1m \u001b[0m┃\n",
              "┡━━━━━━━━━━━━━━━━━━━━━━━━━━━━━━━━━╇━━━━━━━━━━━━━━━━━━━━━━━━╇━━━━━━━━━━━━━━━┩\n",
              "│ bidirectional (\u001b[38;5;33mBidirectional\u001b[0m)   │ (\u001b[38;5;45mNone\u001b[0m, \u001b[38;5;34m62\u001b[0m, \u001b[38;5;34m128\u001b[0m)        │        \u001b[38;5;34m35,840\u001b[0m │\n",
              "├─────────────────────────────────┼────────────────────────┼───────────────┤\n",
              "│ bidirectional_1 (\u001b[38;5;33mBidirectional\u001b[0m) │ (\u001b[38;5;45mNone\u001b[0m, \u001b[38;5;34m64\u001b[0m)             │        \u001b[38;5;34m41,216\u001b[0m │\n",
              "├─────────────────────────────────┼────────────────────────┼───────────────┤\n",
              "│ dense (\u001b[38;5;33mDense\u001b[0m)                   │ (\u001b[38;5;45mNone\u001b[0m, \u001b[38;5;34m64\u001b[0m)             │         \u001b[38;5;34m4,160\u001b[0m │\n",
              "├─────────────────────────────────┼────────────────────────┼───────────────┤\n",
              "│ dense_1 (\u001b[38;5;33mDense\u001b[0m)                 │ (\u001b[38;5;45mNone\u001b[0m, \u001b[38;5;34m7\u001b[0m)              │           \u001b[38;5;34m455\u001b[0m │\n",
              "└─────────────────────────────────┴────────────────────────┴───────────────┘\n"
            ],
            "text/html": [
              "<pre style=\"white-space:pre;overflow-x:auto;line-height:normal;font-family:Menlo,'DejaVu Sans Mono',consolas,'Courier New',monospace\">┏━━━━━━━━━━━━━━━━━━━━━━━━━━━━━━━━━┳━━━━━━━━━━━━━━━━━━━━━━━━┳━━━━━━━━━━━━━━━┓\n",
              "┃<span style=\"font-weight: bold\"> Layer (type)                    </span>┃<span style=\"font-weight: bold\"> Output Shape           </span>┃<span style=\"font-weight: bold\">       Param # </span>┃\n",
              "┡━━━━━━━━━━━━━━━━━━━━━━━━━━━━━━━━━╇━━━━━━━━━━━━━━━━━━━━━━━━╇━━━━━━━━━━━━━━━┩\n",
              "│ bidirectional (<span style=\"color: #0087ff; text-decoration-color: #0087ff\">Bidirectional</span>)   │ (<span style=\"color: #00d7ff; text-decoration-color: #00d7ff\">None</span>, <span style=\"color: #00af00; text-decoration-color: #00af00\">62</span>, <span style=\"color: #00af00; text-decoration-color: #00af00\">128</span>)        │        <span style=\"color: #00af00; text-decoration-color: #00af00\">35,840</span> │\n",
              "├─────────────────────────────────┼────────────────────────┼───────────────┤\n",
              "│ bidirectional_1 (<span style=\"color: #0087ff; text-decoration-color: #0087ff\">Bidirectional</span>) │ (<span style=\"color: #00d7ff; text-decoration-color: #00d7ff\">None</span>, <span style=\"color: #00af00; text-decoration-color: #00af00\">64</span>)             │        <span style=\"color: #00af00; text-decoration-color: #00af00\">41,216</span> │\n",
              "├─────────────────────────────────┼────────────────────────┼───────────────┤\n",
              "│ dense (<span style=\"color: #0087ff; text-decoration-color: #0087ff\">Dense</span>)                   │ (<span style=\"color: #00d7ff; text-decoration-color: #00d7ff\">None</span>, <span style=\"color: #00af00; text-decoration-color: #00af00\">64</span>)             │         <span style=\"color: #00af00; text-decoration-color: #00af00\">4,160</span> │\n",
              "├─────────────────────────────────┼────────────────────────┼───────────────┤\n",
              "│ dense_1 (<span style=\"color: #0087ff; text-decoration-color: #0087ff\">Dense</span>)                 │ (<span style=\"color: #00d7ff; text-decoration-color: #00d7ff\">None</span>, <span style=\"color: #00af00; text-decoration-color: #00af00\">7</span>)              │           <span style=\"color: #00af00; text-decoration-color: #00af00\">455</span> │\n",
              "└─────────────────────────────────┴────────────────────────┴───────────────┘\n",
              "</pre>\n"
            ]
          },
          "metadata": {}
        },
        {
          "output_type": "display_data",
          "data": {
            "text/plain": [
              "\u001b[1m Total params: \u001b[0m\u001b[38;5;34m245,015\u001b[0m (957.09 KB)\n"
            ],
            "text/html": [
              "<pre style=\"white-space:pre;overflow-x:auto;line-height:normal;font-family:Menlo,'DejaVu Sans Mono',consolas,'Courier New',monospace\"><span style=\"font-weight: bold\"> Total params: </span><span style=\"color: #00af00; text-decoration-color: #00af00\">245,015</span> (957.09 KB)\n",
              "</pre>\n"
            ]
          },
          "metadata": {}
        },
        {
          "output_type": "display_data",
          "data": {
            "text/plain": [
              "\u001b[1m Trainable params: \u001b[0m\u001b[38;5;34m81,671\u001b[0m (319.03 KB)\n"
            ],
            "text/html": [
              "<pre style=\"white-space:pre;overflow-x:auto;line-height:normal;font-family:Menlo,'DejaVu Sans Mono',consolas,'Courier New',monospace\"><span style=\"font-weight: bold\"> Trainable params: </span><span style=\"color: #00af00; text-decoration-color: #00af00\">81,671</span> (319.03 KB)\n",
              "</pre>\n"
            ]
          },
          "metadata": {}
        },
        {
          "output_type": "display_data",
          "data": {
            "text/plain": [
              "\u001b[1m Non-trainable params: \u001b[0m\u001b[38;5;34m0\u001b[0m (0.00 B)\n"
            ],
            "text/html": [
              "<pre style=\"white-space:pre;overflow-x:auto;line-height:normal;font-family:Menlo,'DejaVu Sans Mono',consolas,'Courier New',monospace\"><span style=\"font-weight: bold\"> Non-trainable params: </span><span style=\"color: #00af00; text-decoration-color: #00af00\">0</span> (0.00 B)\n",
              "</pre>\n"
            ]
          },
          "metadata": {}
        },
        {
          "output_type": "display_data",
          "data": {
            "text/plain": [
              "\u001b[1m Optimizer params: \u001b[0m\u001b[38;5;34m163,344\u001b[0m (638.07 KB)\n"
            ],
            "text/html": [
              "<pre style=\"white-space:pre;overflow-x:auto;line-height:normal;font-family:Menlo,'DejaVu Sans Mono',consolas,'Courier New',monospace\"><span style=\"font-weight: bold\"> Optimizer params: </span><span style=\"color: #00af00; text-decoration-color: #00af00\">163,344</span> (638.07 KB)\n",
              "</pre>\n"
            ]
          },
          "metadata": {}
        }
      ]
    },
    {
      "cell_type": "code",
      "source": [
        "import pickle # Import the pickle module\n",
        "\n",
        "with open('eeg_scaler.pkl', 'wb') as f:\n",
        "    pickle.dump(scaler, f)\n",
        "\n",
        "print(\"Scaler saved successfully as eeg_scaler.pkl\")"
      ],
      "metadata": {
        "colab": {
          "base_uri": "https://localhost:8080/"
        },
        "id": "yg7KQHS5EXj-",
        "outputId": "d7af603c-cecb-45ae-c1ea-66d6f47b3723"
      },
      "execution_count": null,
      "outputs": [
        {
          "output_type": "stream",
          "name": "stdout",
          "text": [
            "Scaler saved successfully as eeg_scaler.pkl\n"
          ]
        }
      ]
    },
    {
      "cell_type": "code",
      "source": [
        "with open('eeg_label_encoder.pkl', 'wb') as f:\n",
        "    pickle.dump(le, f)\n",
        "\n",
        "print(\"LabelEncoder saved successfully as eeg_label_encoder.pkl\")\n"
      ],
      "metadata": {
        "colab": {
          "base_uri": "https://localhost:8080/"
        },
        "id": "yRcaKljqJioC",
        "outputId": "c9dbe3e6-4ee7-4556-9418-1323ac622d79"
      },
      "execution_count": null,
      "outputs": [
        {
          "output_type": "stream",
          "name": "stdout",
          "text": [
            "LabelEncoder saved successfully as eeg_label_encoder.pkl\n"
          ]
        }
      ]
    },
    {
      "cell_type": "code",
      "source": [
        "!pip install pykalman"
      ],
      "metadata": {
        "colab": {
          "base_uri": "https://localhost:8080/"
        },
        "id": "dqW4efGjMtSP",
        "outputId": "1aedee38-0048-4a72-96b3-7d626fa9feb8"
      },
      "execution_count": null,
      "outputs": [
        {
          "output_type": "stream",
          "name": "stdout",
          "text": [
            "Collecting pykalman\n",
            "  Downloading pykalman-0.10.1-py2.py3-none-any.whl.metadata (9.5 kB)\n",
            "Requirement already satisfied: numpy<3 in /usr/local/lib/python3.11/dist-packages (from pykalman) (2.0.2)\n",
            "Requirement already satisfied: packaging in /usr/local/lib/python3.11/dist-packages (from pykalman) (24.2)\n",
            "Collecting scikit-base<0.13.0 (from pykalman)\n",
            "  Downloading scikit_base-0.12.2-py3-none-any.whl.metadata (8.8 kB)\n",
            "Requirement already satisfied: scipy<2.0.0 in /usr/local/lib/python3.11/dist-packages (from pykalman) (1.14.1)\n",
            "Downloading pykalman-0.10.1-py2.py3-none-any.whl (248 kB)\n",
            "\u001b[2K   \u001b[90m━━━━━━━━━━━━━━━━━━━━━━━━━━━━━━━━━━━━━━━━\u001b[0m \u001b[32m248.5/248.5 kB\u001b[0m \u001b[31m8.4 MB/s\u001b[0m eta \u001b[36m0:00:00\u001b[0m\n",
            "\u001b[?25hDownloading scikit_base-0.12.2-py3-none-any.whl (142 kB)\n",
            "\u001b[2K   \u001b[90m━━━━━━━━━━━━━━━━━━━━━━━━━━━━━━━━━━━━━━━━\u001b[0m \u001b[32m142.7/142.7 kB\u001b[0m \u001b[31m12.0 MB/s\u001b[0m eta \u001b[36m0:00:00\u001b[0m\n",
            "\u001b[?25hInstalling collected packages: scikit-base, pykalman\n",
            "Successfully installed pykalman-0.10.1 scikit-base-0.12.2\n"
          ]
        }
      ]
    },
    {
      "cell_type": "code",
      "source": [
        "import numpy as np\n",
        "import pandas as pd\n",
        "from scipy.signal import welch\n",
        "from pykalman import KalmanFilter\n",
        "from tensorflow.keras.models import load_model\n",
        "import joblib  # ✅ Use joblib instead of pickle\n",
        "\n",
        "# EEG Channel List (Updated Order)\n",
        "channels = [\n",
        "    \"FP1\", \"FPZ\", \"FP2\", \"AF3\", \"AF4\", \"F7\", \"F5\", \"F3\", \"F1\", \"FZ\", \"F2\", \"F4\", \"F6\", \"F8\",\n",
        "    \"FT7\", \"FC5\", \"FC3\", \"FC1\", \"FCZ\", \"FC2\", \"FC4\", \"FC6\", \"FT8\",\n",
        "    \"T7\", \"C5\", \"C3\", \"C1\", \"CZ\", \"C2\", \"C4\", \"C6\", \"T8\",\n",
        "    \"TP7\", \"CP5\", \"CP3\", \"CP1\", \"CPZ\", \"CP2\", \"CP4\", \"CP6\", \"TP8\",\n",
        "    \"P7\", \"P5\", \"P3\", \"P1\", \"PZ\", \"P2\", \"P4\", \"P6\", \"P8\",\n",
        "    \"PO7\", \"PO5\", \"PO3\", \"POZ\", \"PO4\", \"PO6\", \"PO8\",\n",
        "    \"CB1\", \"O1\", \"OZ\", \"O2\", \"CB2\"\n",
        "]\n",
        "\n",
        "sampling_rate = 200\n",
        "window_size = 1\n",
        "segment_length = sampling_rate * window_size\n",
        "\n",
        "freq_bands = {\n",
        "    \"Delta\": (1, 3),\n",
        "    \"Theta\": (4, 7),\n",
        "    \"Alpha\": (8, 13),\n",
        "    \"Beta\": (14, 30),\n",
        "    \"Gamma\": (31, 50)\n",
        "}\n",
        "\n",
        "kf = KalmanFilter(\n",
        "    transition_matrices=[1],\n",
        "    observation_matrices=[1],\n",
        "    transition_covariance=0.2 * np.eye(1),\n",
        "    observation_covariance=0.5 * np.eye(1),\n",
        "    initial_state_mean=[20],\n",
        "    initial_state_covariance=5 * np.eye(1)\n",
        ")\n",
        "\n",
        "# def generate_extreme_positive_eeg():\n",
        "#     t = np.linspace(0, 1, 200)\n",
        "#     eeg_data = []\n",
        "#     for _ in range(62):\n",
        "#         alpha_wave = 30 * np.sin(2 * np.pi * 10 * t)\n",
        "#         beta_wave = 25 * np.sin(2 * np.pi * 20 * t)\n",
        "#         gamma_wave = 15 * np.sin(2 * np.pi * 40 * t)\n",
        "#         eeg_channel_signal = alpha_wave + beta_wave + gamma_wave\n",
        "#         eeg_data.append(eeg_channel_signal)\n",
        "#     return np.array(eeg_data)\n",
        "def generate_balanced_eeg():\n",
        "    t = np.linspace(0, 1, 200)\n",
        "    eeg_data = []\n",
        "\n",
        "    for _ in range(62):  # 62 EEG channels\n",
        "        # Mix of different frequency components for each channel\n",
        "        alpha_wave = 15 * np.sin(2 * np.pi * 10 * t)  # Alpha (moderate amplitude)\n",
        "        beta_wave = 20 * np.sin(2 * np.pi * 20 * t)   # Beta (moderate amplitude)\n",
        "        theta_wave = 10 * np.sin(2 * np.pi * 5 * t)    # Theta (lower frequency)\n",
        "        gamma_wave = 12 * np.sin(2 * np.pi * 40 * t)   # Gamma (higher frequency)\n",
        "\n",
        "        eeg_channel_signal = alpha_wave + beta_wave + theta_wave + gamma_wave\n",
        "        eeg_data.append(eeg_channel_signal)\n",
        "\n",
        "    return np.array(eeg_data)\n",
        "\n",
        "\n",
        "\n",
        "def extract_de_lds():\n",
        "    eeg_data = generate_balanced_eeg()\n",
        "    de_features = []\n",
        "    for channel_data in eeg_data:\n",
        "        freqs, psd = welch(channel_data, fs=sampling_rate, nperseg=min(200, segment_length), scaling='density')\n",
        "        band_de = []\n",
        "        for band, (low, high) in freq_bands.items():\n",
        "            band_power = psd[(freqs >= low) & (freqs <= high)]\n",
        "            band_de_value = 0.5 * np.log10(2 * np.pi * np.e * (np.mean(band_power) + 1e-6))\n",
        "            band_de.append(band_de_value)\n",
        "        band_de = np.array(band_de).reshape(-1, 1)\n",
        "        smoothed_de, _ = kf.filter(band_de)\n",
        "        de_features.append(smoothed_de.flatten())\n",
        "    de_features = np.array(de_features)\n",
        "    de_min, de_max = np.min(de_features), np.max(de_features)\n",
        "    seed_min, seed_max = 15, 27\n",
        "    de_lds_values = seed_min + (de_features - de_min) / (de_max - de_min) * (seed_max - seed_min)\n",
        "    print(f\"🟢 Extracted DE_LDS Features - Shape: {de_lds_values.shape}\")\n",
        "    return de_lds_values.flatten()\n",
        "\n",
        "def predict_emotion():\n",
        "    sample = extract_de_lds().reshape((1, 1, 310))\n",
        "\n",
        "    # ✅ Load model\n",
        "    han_model = load_model(\"/content/eeg_emotion_bilstm_model(100e).h5\")\n",
        "\n",
        "    # ✅ Load y_encoder using joblib\n",
        "    y_encoder = joblib.load(\"/content/eeg_label_encoder.pkl\")\n",
        "\n",
        "    prediction = han_model.predict(sample)\n",
        "    predicted_label = np.argmax(prediction, axis=1)\n",
        "    decoded_label = y_encoder.inverse_transform(predicted_label)\n",
        "\n",
        "    print(f\"🔵 Predicted Emotion: {decoded_label[0]}\")\n",
        "    return decoded_label[0]\n",
        "\n",
        "# Run it\n",
        "predicted_emotion = predict_emotion()\n",
        "\n"
      ],
      "metadata": {
        "colab": {
          "base_uri": "https://localhost:8080/"
        },
        "id": "1XE-p5xYLtv1",
        "outputId": "38a04dd2-5f7f-493f-bc11-5f5fa8529fc2"
      },
      "execution_count": null,
      "outputs": [
        {
          "output_type": "stream",
          "name": "stderr",
          "text": [
            "WARNING:absl:Compiled the loaded model, but the compiled metrics have yet to be built. `model.compile_metrics` will be empty until you train or evaluate the model.\n"
          ]
        },
        {
          "output_type": "stream",
          "name": "stdout",
          "text": [
            "🟢 Extracted DE_LDS Features - Shape: (62, 5)\n",
            "\u001b[1m1/1\u001b[0m \u001b[32m━━━━━━━━━━━━━━━━━━━━\u001b[0m\u001b[37m\u001b[0m \u001b[1m1s\u001b[0m 687ms/step\n",
            "🔵 Predicted Emotion: Anger\n"
          ]
        }
      ]
    },
    {
      "cell_type": "code",
      "source": [
        "loaded_model = tf.keras.models.load_model(\"/content/eeg_emotion_bilstm_model(100e).h5\")\n"
      ],
      "metadata": {
        "colab": {
          "base_uri": "https://localhost:8080/"
        },
        "id": "Rb4JODu7RIsw",
        "outputId": "a9b48b23-bb51-4986-d658-d35dfd92df56"
      },
      "execution_count": null,
      "outputs": [
        {
          "output_type": "stream",
          "name": "stderr",
          "text": [
            "WARNING:absl:Compiled the loaded model, but the compiled metrics have yet to be built. `model.compile_metrics` will be empty until you train or evaluate the model.\n"
          ]
        }
      ]
    },
    {
      "cell_type": "code",
      "source": [
        "loaded_model.compile(\n",
        "    loss=tf.keras.losses.CategoricalCrossentropy(from_logits=True),\n",
        "    optimizer=tf.keras.optimizers.Adam(),\n",
        "    metrics=['accuracy']\n",
        ")\n"
      ],
      "metadata": {
        "id": "HSvIGU6ORVmK"
      },
      "execution_count": null,
      "outputs": []
    },
    {
      "cell_type": "code",
      "source": [
        "import numpy as np\n",
        "import random\n",
        "import pickle\n",
        "import tensorflow as tf\n",
        "from sklearn.model_selection import train_test_split\n",
        "\n",
        "# Load the trained model\n",
        "loaded_model = tf.keras.models.load_model('/content/eeg_emotion_bilstm_model(100e).h5')\n",
        "\n",
        "# Load the scaler\n",
        "with open('eeg_scaler.pkl', 'rb') as f:\n",
        "    scaler = pickle.load(f)\n",
        "\n",
        "# Load the label encoder\n",
        "with open('eeg_label_encoder.pkl', 'rb') as f:\n",
        "    le = pickle.load(f)\n",
        "\n",
        "# Load your dataset again if X_reshaped is not already available\n",
        "import pandas as pd\n",
        "df = pd.read_csv('/content/de_lds_with_labels(310 seed7).csv')\n",
        "\n",
        "# Preprocess features\n",
        "X = df.iloc[:, :-1].values\n",
        "y = df.iloc[:, -1].values\n",
        "\n",
        "# Encode labels and scale features\n",
        "y_encoded = le.transform(y)  # Use the already-fitted label encoder\n",
        "y_categorical = tf.keras.utils.to_categorical(y_encoded, num_classes=7)\n",
        "X_scaled = scaler.transform(X)\n",
        "X_reshaped = X_scaled.reshape(-1, 62, 5)\n",
        "\n",
        "# Split again with tracking of indices to map predictions back to dataset\n",
        "original_indices = np.arange(len(X_reshaped))\n",
        "X_train, X_test, y_train, y_test, train_indices, test_indices = train_test_split(\n",
        "    X_reshaped, y_categorical, original_indices, test_size=0.2, random_state=42\n",
        ") # Unpack into 6 values\n",
        "\n",
        "# Pick a random test sample\n",
        "random_idx = random.randint(0, len(X_test) - 1)\n",
        "random_row = X_test[random_idx].reshape(1, 62, 5)  # Reshape for model input\n",
        "\n",
        "# Predict\n",
        "pred_probs = loaded_model.predict(random_row)\n",
        "pred_class = np.argmax(pred_probs, axis=1)\n",
        "\n",
        "# Get true class and decode both\n",
        "true_class = np.argmax(y_test[random_idx])\n",
        "predicted_emotion = le.inverse_transform([pred_class[0]])[0]\n",
        "true_emotion = le.inverse_transform([true_class])[0]\n",
        "\n",
        "# Show results\n",
        "print(f\"✅ Original row in dataset: {test_indices[random_idx]}\")\n",
        "print(f\"✅ Random Row Index in test set: {random_idx}\")\n",
        "print(f\"🎯 True Emotion: {true_emotion}\")\n",
        "print(f\"🤖 Predicted Emotion: {predicted_emotion}\")\n"
      ],
      "metadata": {
        "colab": {
          "base_uri": "https://localhost:8080/"
        },
        "id": "38siH_l6Qo76",
        "outputId": "16449891-9897-4d54-8455-128890fd94b1"
      },
      "execution_count": null,
      "outputs": [
        {
          "output_type": "stream",
          "name": "stderr",
          "text": [
            "WARNING:absl:Compiled the loaded model, but the compiled metrics have yet to be built. `model.compile_metrics` will be empty until you train or evaluate the model.\n"
          ]
        },
        {
          "output_type": "stream",
          "name": "stdout",
          "text": [
            "\u001b[1m1/1\u001b[0m \u001b[32m━━━━━━━━━━━━━━━━━━━━\u001b[0m\u001b[37m\u001b[0m \u001b[1m0s\u001b[0m 283ms/step\n",
            "✅ Original row in dataset: 57618\n",
            "✅ Random Row Index in test set: 11559\n",
            "🎯 True Emotion: Sad\n",
            "🤖 Predicted Emotion: Sad\n"
          ]
        }
      ]
    },
    {
      "cell_type": "code",
      "source": [],
      "metadata": {
        "id": "hY4MRySMaDpT"
      },
      "execution_count": null,
      "outputs": []
    },
    {
      "cell_type": "code",
      "source": [
        "import numpy as np\n",
        "from scipy.signal import welch\n",
        "from pykalman import KalmanFilter\n",
        "from keras.models import load_model\n",
        "import joblib\n",
        "\n",
        "# Frequency bands for EEG\n",
        "freq_bands = {\n",
        "    \"Delta\": (1, 3),\n",
        "    'theta': (4, 8),\n",
        "    'alpha': (8, 14),\n",
        "    'beta': (14, 31),\n",
        "    'gamma': (31, 45)\n",
        "}\n",
        "\n",
        "# Kalman filter for smoothing\n",
        "kf = KalmanFilter(initial_state_mean=0, n_dim_obs=1)\n",
        "\n",
        "# Generate synthetic EEG for each emotion\n",
        "def generate_emotion_eeg(emotion):\n",
        "    t = np.linspace(0, 1, 200)\n",
        "    eeg_data = []\n",
        "    for _ in range(62):\n",
        "        if emotion == \"happy\":\n",
        "            alpha = 20 * np.sin(2 * np.pi * 10 * t)\n",
        "            beta = 15 * np.sin(2 * np.pi * 20 * t)\n",
        "            gamma = 5 * np.sin(2 * np.pi * 40 * t)\n",
        "            signal = alpha + beta + gamma\n",
        "\n",
        "        elif emotion == \"sad\":\n",
        "            theta = 20 * np.sin(2 * np.pi * 5 * t)\n",
        "            alpha = 5 * np.sin(2 * np.pi * 10 * t)\n",
        "            signal = theta + alpha\n",
        "\n",
        "        elif emotion == \"angry\":\n",
        "            beta = 25 * np.sin(2 * np.pi * 20 * t)\n",
        "            gamma = 25 * np.sin(2 * np.pi * 40 * t)\n",
        "            signal = beta + gamma\n",
        "\n",
        "        elif emotion == \"fear\":\n",
        "            theta = 20 * np.sin(2 * np.pi * 5 * t)\n",
        "            gamma = 20 * np.sin(2 * np.pi * 40 * t)\n",
        "            signal = theta + gamma\n",
        "\n",
        "        elif emotion == \"disgust\":\n",
        "            alpha = 5 * np.sin(2 * np.pi * 10 * t)\n",
        "            beta = 25 * np.sin(2 * np.pi * 20 * t)\n",
        "            signal = alpha + beta\n",
        "\n",
        "        elif emotion == \"surprise\":\n",
        "            beta = 20 * np.sin(2 * np.pi * 20 * t)\n",
        "            gamma = 30 * np.sin(2 * np.pi * 40 * t)\n",
        "            signal = beta + gamma\n",
        "\n",
        "        elif emotion == \"neutral\":\n",
        "            theta = 10 * np.sin(2 * np.pi * 5 * t)\n",
        "            alpha = 10 * np.sin(2 * np.pi * 10 * t)\n",
        "            beta = 10 * np.sin(2 * np.pi * 20 * t)\n",
        "            gamma = 10 * np.sin(2 * np.pi * 40 * t)\n",
        "            signal = theta + alpha + beta + gamma\n",
        "\n",
        "        eeg_data.append(signal)\n",
        "    return np.array(eeg_data)\n",
        "\n",
        "# Extract DE-LDS features\n",
        "def extract_de_lds(eeg_data):\n",
        "    de_features = []\n",
        "    for channel_data in eeg_data:\n",
        "        freqs, psd = welch(channel_data, fs=200, nperseg=200, scaling='density')\n",
        "        band_de = []\n",
        "        for band, (low, high) in freq_bands.items():\n",
        "            band_power = psd[(freqs >= low) & (freqs <= high)]\n",
        "            band_de_value = 0.5 * np.log10(2 * np.pi * np.e * (np.mean(band_power) + 1e-6))\n",
        "            band_de.append(band_de_value)\n",
        "        band_de = np.array(band_de).reshape(-1, 1)\n",
        "        smoothed_de, _ = kf.filter(band_de)\n",
        "        de_features.append(smoothed_de.flatten())\n",
        "    de_features = np.array(de_features)\n",
        "    de_min, de_max = np.min(de_features), np.max(de_features)\n",
        "    seed_min, seed_max = 15, 27\n",
        "    de_lds_values = seed_min + (de_features - de_min) / (de_max - de_min) * (seed_max - seed_min)\n",
        "    return de_lds_values.flatten()\n",
        "\n",
        "# Predict emotion using model\n",
        "def predict_emotion(eeg_data, expected_emotion):\n",
        "    sample = extract_de_lds(eeg_data).reshape((1, 1, 310))\n",
        "    model = load_model(\"/content/eeg_emotion_bilstm_model(100e).h5\")\n",
        "    y_encoder = joblib.load(\"/content/eeg_label_encoder.pkl\")\n",
        "    prediction = model.predict(sample)\n",
        "    predicted_label = np.argmax(prediction)\n",
        "    predicted_emotion = y_encoder.inverse_transform([predicted_label])[0]\n",
        "    print(f\"🧠 Expected: {expected_emotion:9s} | 🔮 Predicted: {predicted_emotion:9s} {'✅' if predicted_emotion == expected_emotion else '❌'}\")\n",
        "    return predicted_emotion\n",
        "\n",
        "# Test all emotions\n",
        "all_emotions = [\"happy\", \"sad\", \"angry\", \"fear\", \"disgust\", \"surprise\", \"neutral\"]\n",
        "for emotion in all_emotions:\n",
        "    eeg = generate_emotion_eeg(emotion)\n",
        "    predict_emotion(eeg, emotion)\n"
      ],
      "metadata": {
        "colab": {
          "base_uri": "https://localhost:8080/"
        },
        "id": "m22q6_DcjWLD",
        "outputId": "a0325f52-0678-4803-8d1c-1713846d7b23"
      },
      "execution_count": null,
      "outputs": [
        {
          "output_type": "stream",
          "name": "stderr",
          "text": [
            "WARNING:absl:Compiled the loaded model, but the compiled metrics have yet to be built. `model.compile_metrics` will be empty until you train or evaluate the model.\n"
          ]
        },
        {
          "output_type": "stream",
          "name": "stdout",
          "text": [
            "\u001b[1m1/1\u001b[0m \u001b[32m━━━━━━━━━━━━━━━━━━━━\u001b[0m\u001b[37m\u001b[0m \u001b[1m0s\u001b[0m 302ms/step\n",
            "🧠 Expected: happy     | 🔮 Predicted: Disgust   ❌\n"
          ]
        },
        {
          "output_type": "stream",
          "name": "stderr",
          "text": [
            "WARNING:absl:Compiled the loaded model, but the compiled metrics have yet to be built. `model.compile_metrics` will be empty until you train or evaluate the model.\n"
          ]
        },
        {
          "output_type": "stream",
          "name": "stdout",
          "text": [
            "\u001b[1m1/1\u001b[0m \u001b[32m━━━━━━━━━━━━━━━━━━━━\u001b[0m\u001b[37m\u001b[0m \u001b[1m0s\u001b[0m 291ms/step\n",
            "🧠 Expected: sad       | 🔮 Predicted: Happy     ❌\n"
          ]
        },
        {
          "output_type": "stream",
          "name": "stderr",
          "text": [
            "WARNING:absl:Compiled the loaded model, but the compiled metrics have yet to be built. `model.compile_metrics` will be empty until you train or evaluate the model.\n"
          ]
        },
        {
          "output_type": "stream",
          "name": "stdout",
          "text": [
            "\u001b[1m1/1\u001b[0m \u001b[32m━━━━━━━━━━━━━━━━━━━━\u001b[0m\u001b[37m\u001b[0m \u001b[1m0s\u001b[0m 296ms/step\n",
            "🧠 Expected: angry     | 🔮 Predicted: Happy     ❌\n"
          ]
        },
        {
          "output_type": "stream",
          "name": "stderr",
          "text": [
            "WARNING:absl:Compiled the loaded model, but the compiled metrics have yet to be built. `model.compile_metrics` will be empty until you train or evaluate the model.\n"
          ]
        },
        {
          "output_type": "stream",
          "name": "stdout",
          "text": [
            "\u001b[1m1/1\u001b[0m \u001b[32m━━━━━━━━━━━━━━━━━━━━\u001b[0m\u001b[37m\u001b[0m \u001b[1m0s\u001b[0m 399ms/step\n",
            "🧠 Expected: fear      | 🔮 Predicted: Anger     ❌\n"
          ]
        },
        {
          "output_type": "stream",
          "name": "stderr",
          "text": [
            "WARNING:absl:Compiled the loaded model, but the compiled metrics have yet to be built. `model.compile_metrics` will be empty until you train or evaluate the model.\n"
          ]
        },
        {
          "output_type": "stream",
          "name": "stdout",
          "text": [
            "\u001b[1m1/1\u001b[0m \u001b[32m━━━━━━━━━━━━━━━━━━━━\u001b[0m\u001b[37m\u001b[0m \u001b[1m0s\u001b[0m 413ms/step\n",
            "🧠 Expected: disgust   | 🔮 Predicted: Surprise  ❌\n"
          ]
        },
        {
          "output_type": "stream",
          "name": "stderr",
          "text": [
            "WARNING:absl:Compiled the loaded model, but the compiled metrics have yet to be built. `model.compile_metrics` will be empty until you train or evaluate the model.\n"
          ]
        },
        {
          "output_type": "stream",
          "name": "stdout",
          "text": [
            "\u001b[1m1/1\u001b[0m \u001b[32m━━━━━━━━━━━━━━━━━━━━\u001b[0m\u001b[37m\u001b[0m \u001b[1m0s\u001b[0m 473ms/step\n",
            "🧠 Expected: surprise  | 🔮 Predicted: Surprise  ❌\n"
          ]
        },
        {
          "output_type": "stream",
          "name": "stderr",
          "text": [
            "WARNING:absl:Compiled the loaded model, but the compiled metrics have yet to be built. `model.compile_metrics` will be empty until you train or evaluate the model.\n"
          ]
        },
        {
          "output_type": "stream",
          "name": "stdout",
          "text": [
            "\u001b[1m1/1\u001b[0m \u001b[32m━━━━━━━━━━━━━━━━━━━━\u001b[0m\u001b[37m\u001b[0m \u001b[1m0s\u001b[0m 305ms/step\n",
            "🧠 Expected: neutral   | 🔮 Predicted: Anger     ❌\n"
          ]
        }
      ]
    }
  ]
}