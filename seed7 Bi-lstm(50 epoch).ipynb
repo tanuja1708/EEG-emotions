{
  "nbformat": 4,
  "nbformat_minor": 0,
  "metadata": {
    "colab": {
      "provenance": [],
      "gpuType": "T4",
      "authorship_tag": "ABX9TyNZYjea4Odu9ati/u4O6Mo0",
      "include_colab_link": true
    },
    "kernelspec": {
      "name": "python3",
      "display_name": "Python 3"
    },
    "language_info": {
      "name": "python"
    },
    "accelerator": "GPU"
  },
  "cells": [
    {
      "cell_type": "markdown",
      "metadata": {
        "id": "view-in-github",
        "colab_type": "text"
      },
      "source": [
        "<a href=\"https://colab.research.google.com/github/tanuja1708/EEG-emotions/blob/main/seed7%20Bi-lstm(50%20epoch).ipynb\" target=\"_parent\"><img src=\"https://colab.research.google.com/assets/colab-badge.svg\" alt=\"Open In Colab\"/></a>"
      ]
    },
    {
      "cell_type": "code",
      "execution_count": 1,
      "metadata": {
        "id": "dc1lUrfEm073"
      },
      "outputs": [],
      "source": [
        "import pandas as pd\n",
        "import numpy as np\n",
        "import tensorflow as tf\n",
        "import matplotlib.pyplot as plt\n",
        "from sklearn.model_selection import train_test_split\n",
        "from sklearn.preprocessing import LabelEncoder, StandardScaler\n",
        "from tensorflow.keras.utils import to_categorical\n",
        "from sklearn.metrics import confusion_matrix, classification_report\n",
        "import seaborn as sns\n"
      ]
    },
    {
      "cell_type": "code",
      "source": [
        "df = pd.read_csv('/content/de_lds_with_labels(310 seed7).csv')\n"
      ],
      "metadata": {
        "id": "CNqjF7SjqYHG"
      },
      "execution_count": 3,
      "outputs": []
    },
    {
      "cell_type": "code",
      "source": [
        "# Separate features and labels\n",
        "X = df.iloc[:, :-1].values\n",
        "y = df.iloc[:, -1].values\n",
        "\n",
        "# Encode labels and convert to categorical (7 emotions)\n",
        "le = LabelEncoder()\n",
        "y_encoded = le.fit_transform(y)\n",
        "y_categorical = to_categorical(y_encoded, num_classes=7)\n",
        "\n",
        "# Normalize features\n",
        "scaler = StandardScaler()\n",
        "X_scaled = scaler.fit_transform(X)\n",
        "\n",
        "# Reshape: (samples, 62 timesteps, 5 features)\n",
        "X_reshaped = X_scaled.reshape(-1, 62, 5)\n",
        "\n",
        "# Train-test split\n",
        "X_train, X_test, y_train, y_test = train_test_split(X_reshaped, y_categorical, test_size=0.2, random_state=42)\n"
      ],
      "metadata": {
        "id": "Sm5nf0I1r8t3"
      },
      "execution_count": 4,
      "outputs": []
    },
    {
      "cell_type": "code",
      "source": [],
      "metadata": {
        "id": "602xvr3w37TB"
      },
      "execution_count": null,
      "outputs": []
    },
    {
      "cell_type": "code",
      "source": [
        "print(\"X_train:\", X_train)\n",
        "print(\"y_train:\", y_train)\n",
        "print(\"X_test:\", X_test)\n",
        "print(\"y_test:\", y_test)\n"
      ],
      "metadata": {
        "colab": {
          "base_uri": "https://localhost:8080/"
        },
        "id": "xKV5fAVqsBnv",
        "outputId": "eefa5bd1-a9aa-4118-e570-dcf10898944c"
      },
      "execution_count": 7,
      "outputs": [
        {
          "output_type": "stream",
          "name": "stdout",
          "text": [
            "X_train: [[[-5.25335890e-01 -1.13558441e-01 -6.01969765e-01 -6.93762679e-01\n",
            "   -9.37385090e-01]\n",
            "  [-1.27151918e-01 -7.80063904e-01 -7.78566873e-01 -9.72558449e-01\n",
            "   -6.08941019e-01]\n",
            "  [-9.41029707e-01 -1.08727783e+00 -9.32703446e-01  3.48211732e-01\n",
            "   -7.34879997e-01]\n",
            "  ...\n",
            "  [-2.65208408e-01 -5.95674722e-01 -5.35499702e-01 -4.97117423e-01\n",
            "   -4.85020813e-01]\n",
            "  [-3.07723147e-01  5.37116576e-02 -3.19041382e-01 -5.53103264e-01\n",
            "   -3.21823876e-01]\n",
            "  [-5.52184148e-01 -7.86830502e-02 -3.73032248e-01 -2.62519742e-01\n",
            "   -5.82220885e-01]]\n",
            "\n",
            " [[-4.10097474e-01 -4.89700688e-01 -4.62651967e-01 -5.77200564e-01\n",
            "   -6.56969276e-01]\n",
            "  [ 3.77644575e-01  5.18028900e-02 -5.77986098e-01 -7.86327808e-01\n",
            "   -1.17387685e+00]\n",
            "  [-4.34240270e-01 -8.32945697e-01 -3.89646078e-01 -3.79781967e-01\n",
            "    2.17926556e-01]\n",
            "  ...\n",
            "  [ 6.41340280e-01  6.47320871e-01  3.00174051e-01  1.87014616e+00\n",
            "    1.32113662e+00]\n",
            "  [ 1.05990264e+00  2.91849012e-01  2.07022213e-01  1.17676096e+00\n",
            "    1.04865281e+00]\n",
            "  [ 1.46348405e+00  1.39901829e+00  7.85987291e-01  3.84953624e-01\n",
            "    4.44509097e-01]]\n",
            "\n",
            " [[-1.22244557e-01  7.52721867e-02 -1.61342826e-01 -4.55426825e-01\n",
            "    1.62511716e-01]\n",
            "  [-4.63382006e-01 -3.00309577e-01 -8.36087940e-01 -2.75699881e-01\n",
            "   -9.65906795e-02]\n",
            "  [-2.67418985e-01  3.80503841e-01  1.12438947e-01  1.47844791e-01\n",
            "   -6.95955539e-01]\n",
            "  ...\n",
            "  [-9.84809472e-01 -7.23491468e-01 -9.41733997e-01 -9.50438528e-01\n",
            "   -1.04786081e+00]\n",
            "  [-1.70957900e-01 -2.95450700e-01 -7.99457404e-01 -7.31950185e-01\n",
            "   -6.80578800e-01]\n",
            "  [-7.52349987e-01 -7.15927354e-01 -7.14003765e-01 -7.18623037e-01\n",
            "   -1.01628187e+00]]\n",
            "\n",
            " ...\n",
            "\n",
            " [[-9.63887922e-01 -7.38708501e-01 -1.11936306e+00 -1.30773111e-01\n",
            "   -5.92528324e-01]\n",
            "  [-9.29857651e-01 -6.30636513e-01 -1.97802789e-01 -6.56790867e-01\n",
            "   -7.51354470e-01]\n",
            "  [-5.29616349e-01 -4.61310484e-01 -9.98242153e-01 -1.27036992e+00\n",
            "   -8.90898395e-01]\n",
            "  ...\n",
            "  [-8.83290618e-01 -8.79540124e-01 -1.45674546e+00 -1.46588904e+00\n",
            "   -1.29006853e+00]\n",
            "  [-9.85212335e-01 -1.15170891e+00 -1.22351032e+00 -1.16681715e+00\n",
            "   -1.40347084e+00]\n",
            "  [-1.08346525e+00 -1.36884181e+00 -1.37132387e+00 -1.44162732e+00\n",
            "   -1.38744318e+00]]\n",
            "\n",
            " [[-3.55771736e-01 -1.02862823e-01 -7.01244124e-01 -6.53842198e-02\n",
            "   -1.76038540e-01]\n",
            "  [ 1.57287435e-01  2.07745854e-01  1.26021522e+00  2.96702182e-01\n",
            "    1.37310698e-01]\n",
            "  [-1.54751440e-01 -5.40925198e-01 -2.38161453e-01 -1.05921265e+00\n",
            "   -1.18181320e+00]\n",
            "  ...\n",
            "  [-5.58561219e-02 -8.30021168e-01 -8.02761826e-01 -8.97557276e-01\n",
            "   -1.12249752e+00]\n",
            "  [-1.10873646e+00 -9.15557276e-01 -7.57736811e-01 -9.33712179e-01\n",
            "   -1.11339250e+00]\n",
            "  [-7.43104665e-01 -1.07958823e+00 -8.96893849e-01 -7.59510348e-01\n",
            "   -8.78069413e-01]]\n",
            "\n",
            " [[ 2.73791360e-01  1.96214496e-04 -1.20232069e-01 -9.87473069e-02\n",
            "    7.92499114e-01]\n",
            "  [-7.21071687e-01  1.44309487e-01  6.56056301e-01  2.60967274e-01\n",
            "   -8.22159533e-02]\n",
            "  [ 4.15927547e-01  3.41277048e-01 -1.92717074e-01 -4.93166432e-01\n",
            "   -2.54422935e-01]\n",
            "  ...\n",
            "  [ 4.62184929e-01  3.52675866e-01  5.40672279e-02 -2.86550301e-01\n",
            "   -9.01343664e-02]\n",
            "  [ 1.10739514e-01  1.33736073e+00  1.44278062e+00  1.09078407e+00\n",
            "    6.78493012e-01]\n",
            "  [ 6.04829710e-01 -1.93716089e-01  8.21211339e-01  1.26107074e+00\n",
            "    1.04884614e+00]]]\n",
            "y_train: [[1. 0. 0. ... 0. 0. 0.]\n",
            " [0. 0. 0. ... 0. 0. 1.]\n",
            " [0. 0. 0. ... 0. 0. 0.]\n",
            " ...\n",
            " [0. 0. 0. ... 0. 0. 1.]\n",
            " [0. 1. 0. ... 0. 0. 0.]\n",
            " [0. 0. 0. ... 0. 1. 0.]]\n",
            "X_test: [[[-0.11207648 -0.55438876 -0.53048459 -0.95226248 -0.28974568]\n",
            "  [-0.17862778 -0.48587363 -0.68885917 -0.14512785 -0.45850913]\n",
            "  [-0.1842324  -1.00872052 -0.12277303 -0.29968013 -0.08042413]\n",
            "  ...\n",
            "  [-0.57858871 -0.16102337  0.31692992 -0.6055445  -0.42327175]\n",
            "  [-0.79927302 -0.76574882 -0.37931457  0.18895644  0.64112357]\n",
            "  [-0.94530703 -1.04029774 -0.87630777 -0.90334605 -1.10339019]]\n",
            "\n",
            " [[ 0.04525446  0.03859755 -0.94476243 -0.08187516  0.57791244]\n",
            "  [ 0.47688469 -0.20136766 -0.61669199  0.41992551 -0.33953394]\n",
            "  [-0.05797446 -0.45600912 -0.43921057  0.28684548  0.00749081]\n",
            "  ...\n",
            "  [ 0.60755263  0.60020602  0.52643701  0.79818855  0.98645638]\n",
            "  [ 0.54306924  0.61959163  0.40122521  1.15623154  1.03236312]\n",
            "  [ 1.06407462  0.77026991  0.87400948  0.55728061  0.38703557]]\n",
            "\n",
            " [[ 0.38687488  0.37665678  0.76065039 -0.26279501  1.05175286]\n",
            "  [ 0.27279508  0.15429253 -0.24003143  0.37714959  0.24488005]\n",
            "  [ 0.73119766  1.03998409  0.58985432  0.32307034 -0.12653207]\n",
            "  ...\n",
            "  [ 0.01737404  1.30090491 -0.02556368 -0.46940127 -0.56674129]\n",
            "  [-0.54810939 -0.07150288  0.60506502 -0.46746279  0.08668383]\n",
            "  [-0.87665448 -0.67053184 -0.87940572 -0.53183166 -0.32896094]]\n",
            "\n",
            " ...\n",
            "\n",
            " [[ 0.03463855 -0.6188476  -0.21333096  0.12538723 -0.16568315]\n",
            "  [ 0.51233761  0.38546191 -0.72116504 -0.51134205 -0.6159099 ]\n",
            "  [-0.85405884 -0.49669218 -0.24929488 -0.10976653 -0.18981163]\n",
            "  ...\n",
            "  [-0.4937499  -0.14615503 -0.63630072 -0.41656302 -0.45051496]\n",
            "  [-0.79954287 -1.25242342 -0.43028199 -0.05815255 -0.23996516]\n",
            "  [-0.27033498 -0.62041545 -0.73289261 -0.99198427 -0.66472213]]\n",
            "\n",
            " [[ 1.2509214   1.35144146  1.60949822  1.57058527  1.39944039]\n",
            "  [ 2.25694415  1.7366659   1.67953832  1.10207175  1.95381037]\n",
            "  [ 0.59993508  1.43892645  1.25963939  1.92539419  1.42526599]\n",
            "  ...\n",
            "  [ 1.6956049   2.06792508  1.49959983  2.3457966   1.375117  ]\n",
            "  [ 2.19725522  1.94024778  1.91831226  1.89110813  2.0334642 ]\n",
            "  [ 0.84977622  0.84370797  1.37811137  1.17563631  0.61044201]]\n",
            "\n",
            " [[-0.10228587 -0.20007649  0.3210395  -0.72532528 -0.38982456]\n",
            "  [ 0.1888297   0.98371987  0.52869358 -0.93996329 -0.24902846]\n",
            "  [-0.62264358  0.11273682  0.14154602  0.26672267 -0.11585982]\n",
            "  ...\n",
            "  [ 0.09019113  0.0090217  -0.52042974  1.95720849  2.44587954]\n",
            "  [ 2.33115612  1.03965491  0.77264345  0.48511175  0.33321245]\n",
            "  [ 1.85969151  2.39237387  0.91747781  1.38233252  0.9452143 ]]]\n",
            "y_test: [[0. 0. 1. ... 0. 0. 0.]\n",
            " [0. 0. 0. ... 0. 0. 1.]\n",
            " [0. 0. 0. ... 0. 1. 0.]\n",
            " ...\n",
            " [0. 0. 0. ... 0. 0. 1.]\n",
            " [0. 0. 0. ... 1. 0. 0.]\n",
            " [0. 0. 0. ... 0. 0. 1.]]\n"
          ]
        }
      ]
    },
    {
      "cell_type": "code",
      "source": [
        "batch_size = 32\n",
        "\n",
        "train_dataset = tf.data.Dataset.from_tensor_slices((X_train, y_train)).shuffle(1000).batch(batch_size)\n",
        "test_dataset = tf.data.Dataset.from_tensor_slices((X_test, y_test)).batch(batch_size)\n"
      ],
      "metadata": {
        "id": "1V7gjSmjr-OO"
      },
      "execution_count": 8,
      "outputs": []
    },
    {
      "cell_type": "code",
      "source": [
        "model = tf.keras.Sequential([\n",
        "    tf.keras.layers.Input(shape=(62, 5)),\n",
        "    tf.keras.layers.Bidirectional(tf.keras.layers.LSTM(64, return_sequences=True)),\n",
        "    tf.keras.layers.Bidirectional(tf.keras.layers.LSTM(32)),\n",
        "    tf.keras.layers.Dense(64, activation='relu'),\n",
        "    tf.keras.layers.Dense(7, activation='softmax')  # 7 emotions\n",
        "])\n"
      ],
      "metadata": {
        "id": "aXR4E7jOsqyZ"
      },
      "execution_count": 9,
      "outputs": []
    },
    {
      "cell_type": "code",
      "source": [
        "model.compile(\n",
        "    loss='categorical_crossentropy',\n",
        "    optimizer='adam',\n",
        "    metrics=['accuracy']\n",
        ")\n",
        "\n",
        "history = model.fit(\n",
        "    train_dataset,\n",
        "    epochs=50,\n",
        "    validation_data=test_dataset\n",
        ")\n"
      ],
      "metadata": {
        "colab": {
          "base_uri": "https://localhost:8080/"
        },
        "id": "NKE5kkUMstdC",
        "outputId": "9d5c5bce-8228-4553-a43f-bdcaf918e970"
      },
      "execution_count": 10,
      "outputs": [
        {
          "output_type": "stream",
          "name": "stdout",
          "text": [
            "Epoch 1/50\n",
            "\u001b[1m1744/1744\u001b[0m \u001b[32m━━━━━━━━━━━━━━━━━━━━\u001b[0m\u001b[37m\u001b[0m \u001b[1m33s\u001b[0m 16ms/step - accuracy: 0.2962 - loss: 1.7428 - val_accuracy: 0.5872 - val_loss: 1.1014\n",
            "Epoch 2/50\n",
            "\u001b[1m1744/1744\u001b[0m \u001b[32m━━━━━━━━━━━━━━━━━━━━\u001b[0m\u001b[37m\u001b[0m \u001b[1m27s\u001b[0m 16ms/step - accuracy: 0.7077 - loss: 0.8295 - val_accuracy: 0.9019 - val_loss: 0.3354\n",
            "Epoch 3/50\n",
            "\u001b[1m1744/1744\u001b[0m \u001b[32m━━━━━━━━━━━━━━━━━━━━\u001b[0m\u001b[37m\u001b[0m \u001b[1m27s\u001b[0m 15ms/step - accuracy: 0.9308 - loss: 0.2400 - val_accuracy: 0.9579 - val_loss: 0.1495\n",
            "Epoch 4/50\n",
            "\u001b[1m1744/1744\u001b[0m \u001b[32m━━━━━━━━━━━━━━━━━━━━\u001b[0m\u001b[37m\u001b[0m \u001b[1m27s\u001b[0m 15ms/step - accuracy: 0.9569 - loss: 0.1449 - val_accuracy: 0.9992 - val_loss: 0.0154\n",
            "Epoch 5/50\n",
            "\u001b[1m1744/1744\u001b[0m \u001b[32m━━━━━━━━━━━━━━━━━━━━\u001b[0m\u001b[37m\u001b[0m \u001b[1m27s\u001b[0m 15ms/step - accuracy: 0.9755 - loss: 0.0854 - val_accuracy: 0.9996 - val_loss: 0.0068\n",
            "Epoch 6/50\n",
            "\u001b[1m1744/1744\u001b[0m \u001b[32m━━━━━━━━━━━━━━━━━━━━\u001b[0m\u001b[37m\u001b[0m \u001b[1m29s\u001b[0m 17ms/step - accuracy: 0.9744 - loss: 0.0889 - val_accuracy: 1.0000 - val_loss: 0.0038\n",
            "Epoch 7/50\n",
            "\u001b[1m1744/1744\u001b[0m \u001b[32m━━━━━━━━━━━━━━━━━━━━\u001b[0m\u001b[37m\u001b[0m \u001b[1m27s\u001b[0m 15ms/step - accuracy: 1.0000 - loss: 0.0028 - val_accuracy: 1.0000 - val_loss: 0.0011\n",
            "Epoch 8/50\n",
            "\u001b[1m1744/1744\u001b[0m \u001b[32m━━━━━━━━━━━━━━━━━━━━\u001b[0m\u001b[37m\u001b[0m \u001b[1m27s\u001b[0m 15ms/step - accuracy: 1.0000 - loss: 8.8368e-04 - val_accuracy: 1.0000 - val_loss: 4.2496e-04\n",
            "Epoch 9/50\n",
            "\u001b[1m1744/1744\u001b[0m \u001b[32m━━━━━━━━━━━━━━━━━━━━\u001b[0m\u001b[37m\u001b[0m \u001b[1m27s\u001b[0m 15ms/step - accuracy: 1.0000 - loss: 3.2235e-04 - val_accuracy: 1.0000 - val_loss: 1.5645e-04\n",
            "Epoch 10/50\n",
            "\u001b[1m1744/1744\u001b[0m \u001b[32m━━━━━━━━━━━━━━━━━━━━\u001b[0m\u001b[37m\u001b[0m \u001b[1m28s\u001b[0m 16ms/step - accuracy: 0.8350 - loss: 0.6179 - val_accuracy: 0.9951 - val_loss: 0.0250\n",
            "Epoch 11/50\n",
            "\u001b[1m1744/1744\u001b[0m \u001b[32m━━━━━━━━━━━━━━━━━━━━\u001b[0m\u001b[37m\u001b[0m \u001b[1m41s\u001b[0m 16ms/step - accuracy: 0.9737 - loss: 0.0874 - val_accuracy: 1.0000 - val_loss: 0.0026\n",
            "Epoch 12/50\n",
            "\u001b[1m1744/1744\u001b[0m \u001b[32m━━━━━━━━━━━━━━━━━━━━\u001b[0m\u001b[37m\u001b[0m \u001b[1m27s\u001b[0m 15ms/step - accuracy: 1.0000 - loss: 0.0019 - val_accuracy: 1.0000 - val_loss: 8.5353e-04\n",
            "Epoch 13/50\n",
            "\u001b[1m1744/1744\u001b[0m \u001b[32m━━━━━━━━━━━━━━━━━━━━\u001b[0m\u001b[37m\u001b[0m \u001b[1m43s\u001b[0m 17ms/step - accuracy: 1.0000 - loss: 6.4676e-04 - val_accuracy: 1.0000 - val_loss: 3.2174e-04\n",
            "Epoch 14/50\n",
            "\u001b[1m1744/1744\u001b[0m \u001b[32m━━━━━━━━━━━━━━━━━━━━\u001b[0m\u001b[37m\u001b[0m \u001b[1m27s\u001b[0m 16ms/step - accuracy: 1.0000 - loss: 2.4296e-04 - val_accuracy: 1.0000 - val_loss: 1.2486e-04\n",
            "Epoch 15/50\n",
            "\u001b[1m1744/1744\u001b[0m \u001b[32m━━━━━━━━━━━━━━━━━━━━\u001b[0m\u001b[37m\u001b[0m \u001b[1m27s\u001b[0m 15ms/step - accuracy: 1.0000 - loss: 9.3682e-05 - val_accuracy: 1.0000 - val_loss: 4.8079e-05\n",
            "Epoch 16/50\n",
            "\u001b[1m1744/1744\u001b[0m \u001b[32m━━━━━━━━━━━━━━━━━━━━\u001b[0m\u001b[37m\u001b[0m \u001b[1m27s\u001b[0m 16ms/step - accuracy: 0.9955 - loss: 0.0194 - val_accuracy: 0.8477 - val_loss: 0.4452\n",
            "Epoch 17/50\n",
            "\u001b[1m1744/1744\u001b[0m \u001b[32m━━━━━━━━━━━━━━━━━━━━\u001b[0m\u001b[37m\u001b[0m \u001b[1m28s\u001b[0m 16ms/step - accuracy: 0.9524 - loss: 0.1545 - val_accuracy: 0.9852 - val_loss: 0.0605\n",
            "Epoch 18/50\n",
            "\u001b[1m1744/1744\u001b[0m \u001b[32m━━━━━━━━━━━━━━━━━━━━\u001b[0m\u001b[37m\u001b[0m \u001b[1m28s\u001b[0m 16ms/step - accuracy: 0.9932 - loss: 0.0282 - val_accuracy: 1.0000 - val_loss: 0.0010\n",
            "Epoch 19/50\n",
            "\u001b[1m1744/1744\u001b[0m \u001b[32m━━━━━━━━━━━━━━━━━━━━\u001b[0m\u001b[37m\u001b[0m \u001b[1m43s\u001b[0m 18ms/step - accuracy: 1.0000 - loss: 7.7848e-04 - val_accuracy: 1.0000 - val_loss: 4.0913e-04\n",
            "Epoch 20/50\n",
            "\u001b[1m1744/1744\u001b[0m \u001b[32m━━━━━━━━━━━━━━━━━━━━\u001b[0m\u001b[37m\u001b[0m \u001b[1m28s\u001b[0m 16ms/step - accuracy: 1.0000 - loss: 3.1409e-04 - val_accuracy: 1.0000 - val_loss: 1.6798e-04\n",
            "Epoch 21/50\n",
            "\u001b[1m1744/1744\u001b[0m \u001b[32m━━━━━━━━━━━━━━━━━━━━\u001b[0m\u001b[37m\u001b[0m \u001b[1m28s\u001b[0m 16ms/step - accuracy: 1.0000 - loss: 1.2830e-04 - val_accuracy: 1.0000 - val_loss: 6.7932e-05\n",
            "Epoch 22/50\n",
            "\u001b[1m1744/1744\u001b[0m \u001b[32m━━━━━━━━━━━━━━━━━━━━\u001b[0m\u001b[37m\u001b[0m \u001b[1m28s\u001b[0m 16ms/step - accuracy: 1.0000 - loss: 5.2054e-05 - val_accuracy: 1.0000 - val_loss: 2.6889e-05\n",
            "Epoch 23/50\n",
            "\u001b[1m1744/1744\u001b[0m \u001b[32m━━━━━━━━━━━━━━━━━━━━\u001b[0m\u001b[37m\u001b[0m \u001b[1m40s\u001b[0m 15ms/step - accuracy: 0.9782 - loss: 0.0878 - val_accuracy: 0.9982 - val_loss: 0.0162\n",
            "Epoch 24/50\n",
            "\u001b[1m1744/1744\u001b[0m \u001b[32m━━━━━━━━━━━━━━━━━━━━\u001b[0m\u001b[37m\u001b[0m \u001b[1m27s\u001b[0m 16ms/step - accuracy: 0.9970 - loss: 0.0160 - val_accuracy: 0.9915 - val_loss: 0.0343\n",
            "Epoch 25/50\n",
            "\u001b[1m1744/1744\u001b[0m \u001b[32m━━━━━━━━━━━━━━━━━━━━\u001b[0m\u001b[37m\u001b[0m \u001b[1m41s\u001b[0m 15ms/step - accuracy: 0.9971 - loss: 0.0134 - val_accuracy: 1.0000 - val_loss: 7.4063e-04\n",
            "Epoch 26/50\n",
            "\u001b[1m1744/1744\u001b[0m \u001b[32m━━━━━━━━━━━━━━━━━━━━\u001b[0m\u001b[37m\u001b[0m \u001b[1m27s\u001b[0m 15ms/step - accuracy: 1.0000 - loss: 5.6537e-04 - val_accuracy: 1.0000 - val_loss: 2.8317e-04\n",
            "Epoch 27/50\n",
            "\u001b[1m1744/1744\u001b[0m \u001b[32m━━━━━━━━━━━━━━━━━━━━\u001b[0m\u001b[37m\u001b[0m \u001b[1m27s\u001b[0m 15ms/step - accuracy: 1.0000 - loss: 2.1751e-04 - val_accuracy: 1.0000 - val_loss: 1.2029e-04\n",
            "Epoch 28/50\n",
            "\u001b[1m1744/1744\u001b[0m \u001b[32m━━━━━━━━━━━━━━━━━━━━\u001b[0m\u001b[37m\u001b[0m \u001b[1m29s\u001b[0m 17ms/step - accuracy: 1.0000 - loss: 9.2055e-05 - val_accuracy: 1.0000 - val_loss: 5.0796e-05\n",
            "Epoch 29/50\n",
            "\u001b[1m1744/1744\u001b[0m \u001b[32m━━━━━━━━━━━━━━━━━━━━\u001b[0m\u001b[37m\u001b[0m \u001b[1m39s\u001b[0m 16ms/step - accuracy: 1.0000 - loss: 3.8610e-05 - val_accuracy: 1.0000 - val_loss: 2.0855e-05\n",
            "Epoch 30/50\n",
            "\u001b[1m1744/1744\u001b[0m \u001b[32m━━━━━━━━━━━━━━━━━━━━\u001b[0m\u001b[37m\u001b[0m \u001b[1m27s\u001b[0m 16ms/step - accuracy: 1.0000 - loss: 1.5798e-05 - val_accuracy: 1.0000 - val_loss: 8.4360e-06\n",
            "Epoch 31/50\n",
            "\u001b[1m1744/1744\u001b[0m \u001b[32m━━━━━━━━━━━━━━━━━━━━\u001b[0m\u001b[37m\u001b[0m \u001b[1m29s\u001b[0m 17ms/step - accuracy: 1.0000 - loss: 6.3490e-06 - val_accuracy: 1.0000 - val_loss: 3.3905e-06\n",
            "Epoch 32/50\n",
            "\u001b[1m1744/1744\u001b[0m \u001b[32m━━━━━━━━━━━━━━━━━━━━\u001b[0m\u001b[37m\u001b[0m \u001b[1m27s\u001b[0m 15ms/step - accuracy: 1.0000 - loss: 2.5274e-06 - val_accuracy: 1.0000 - val_loss: 1.3471e-06\n",
            "Epoch 33/50\n",
            "\u001b[1m1744/1744\u001b[0m \u001b[32m━━━━━━━━━━━━━━━━━━━━\u001b[0m\u001b[37m\u001b[0m \u001b[1m27s\u001b[0m 15ms/step - accuracy: 1.0000 - loss: 1.0025e-06 - val_accuracy: 1.0000 - val_loss: 5.3736e-07\n",
            "Epoch 34/50\n",
            "\u001b[1m1744/1744\u001b[0m \u001b[32m━━━━━━━━━━━━━━━━━━━━\u001b[0m\u001b[37m\u001b[0m \u001b[1m29s\u001b[0m 17ms/step - accuracy: 1.0000 - loss: 3.9640e-07 - val_accuracy: 1.0000 - val_loss: 2.1299e-07\n",
            "Epoch 35/50\n",
            "\u001b[1m1744/1744\u001b[0m \u001b[32m━━━━━━━━━━━━━━━━━━━━\u001b[0m\u001b[37m\u001b[0m \u001b[1m27s\u001b[0m 15ms/step - accuracy: 1.0000 - loss: 1.5752e-07 - val_accuracy: 1.0000 - val_loss: 8.5751e-08\n",
            "Epoch 36/50\n",
            "\u001b[1m1744/1744\u001b[0m \u001b[32m━━━━━━━━━━━━━━━━━━━━\u001b[0m\u001b[37m\u001b[0m \u001b[1m27s\u001b[0m 15ms/step - accuracy: 1.0000 - loss: 6.2922e-08 - val_accuracy: 1.0000 - val_loss: 3.5193e-08\n",
            "Epoch 37/50\n",
            "\u001b[1m1744/1744\u001b[0m \u001b[32m━━━━━━━━━━━━━━━━━━━━\u001b[0m\u001b[37m\u001b[0m \u001b[1m27s\u001b[0m 15ms/step - accuracy: 0.9876 - loss: 0.0636 - val_accuracy: 0.9975 - val_loss: 0.0191\n",
            "Epoch 38/50\n",
            "\u001b[1m1744/1744\u001b[0m \u001b[32m━━━━━━━━━━━━━━━━━━━━\u001b[0m\u001b[37m\u001b[0m \u001b[1m44s\u001b[0m 17ms/step - accuracy: 0.9985 - loss: 0.0112 - val_accuracy: 1.0000 - val_loss: 0.0010\n",
            "Epoch 39/50\n",
            "\u001b[1m1744/1744\u001b[0m \u001b[32m━━━━━━━━━━━━━━━━━━━━\u001b[0m\u001b[37m\u001b[0m \u001b[1m38s\u001b[0m 15ms/step - accuracy: 1.0000 - loss: 7.3613e-04 - val_accuracy: 1.0000 - val_loss: 3.4546e-04\n",
            "Epoch 40/50\n",
            "\u001b[1m1744/1744\u001b[0m \u001b[32m━━━━━━━━━━━━━━━━━━━━\u001b[0m\u001b[37m\u001b[0m \u001b[1m27s\u001b[0m 15ms/step - accuracy: 1.0000 - loss: 2.5832e-04 - val_accuracy: 1.0000 - val_loss: 1.3276e-04\n",
            "Epoch 41/50\n",
            "\u001b[1m1744/1744\u001b[0m \u001b[32m━━━━━━━━━━━━━━━━━━━━\u001b[0m\u001b[37m\u001b[0m \u001b[1m41s\u001b[0m 15ms/step - accuracy: 1.0000 - loss: 9.9734e-05 - val_accuracy: 1.0000 - val_loss: 5.2132e-05\n",
            "Epoch 42/50\n",
            "\u001b[1m1744/1744\u001b[0m \u001b[32m━━━━━━━━━━━━━━━━━━━━\u001b[0m\u001b[37m\u001b[0m \u001b[1m41s\u001b[0m 15ms/step - accuracy: 1.0000 - loss: 3.9479e-05 - val_accuracy: 1.0000 - val_loss: 2.0784e-05\n",
            "Epoch 43/50\n",
            "\u001b[1m1744/1744\u001b[0m \u001b[32m━━━━━━━━━━━━━━━━━━━━\u001b[0m\u001b[37m\u001b[0m \u001b[1m27s\u001b[0m 16ms/step - accuracy: 1.0000 - loss: 1.5715e-05 - val_accuracy: 1.0000 - val_loss: 8.4031e-06\n",
            "Epoch 44/50\n",
            "\u001b[1m1744/1744\u001b[0m \u001b[32m━━━━━━━━━━━━━━━━━━━━\u001b[0m\u001b[37m\u001b[0m \u001b[1m41s\u001b[0m 16ms/step - accuracy: 1.0000 - loss: 6.3565e-06 - val_accuracy: 1.0000 - val_loss: 3.4944e-06\n",
            "Epoch 45/50\n",
            "\u001b[1m1744/1744\u001b[0m \u001b[32m━━━━━━━━━━━━━━━━━━━━\u001b[0m\u001b[37m\u001b[0m \u001b[1m27s\u001b[0m 15ms/step - accuracy: 1.0000 - loss: 2.5742e-06 - val_accuracy: 1.0000 - val_loss: 1.3810e-06\n",
            "Epoch 46/50\n",
            "\u001b[1m1744/1744\u001b[0m \u001b[32m━━━━━━━━━━━━━━━━━━━━\u001b[0m\u001b[37m\u001b[0m \u001b[1m29s\u001b[0m 17ms/step - accuracy: 1.0000 - loss: 1.0496e-06 - val_accuracy: 1.0000 - val_loss: 5.6898e-07\n",
            "Epoch 47/50\n",
            "\u001b[1m1744/1744\u001b[0m \u001b[32m━━━━━━━━━━━━━━━━━━━━\u001b[0m\u001b[37m\u001b[0m \u001b[1m41s\u001b[0m 17ms/step - accuracy: 0.9743 - loss: 0.1197 - val_accuracy: 0.9976 - val_loss: 0.0133\n",
            "Epoch 48/50\n",
            "\u001b[1m1744/1744\u001b[0m \u001b[32m━━━━━━━━━━━━━━━━━━━━\u001b[0m\u001b[37m\u001b[0m \u001b[1m27s\u001b[0m 15ms/step - accuracy: 0.9978 - loss: 0.0098 - val_accuracy: 1.0000 - val_loss: 6.4130e-04\n",
            "Epoch 49/50\n",
            "\u001b[1m1744/1744\u001b[0m \u001b[32m━━━━━━━━━━━━━━━━━━━━\u001b[0m\u001b[37m\u001b[0m \u001b[1m41s\u001b[0m 16ms/step - accuracy: 1.0000 - loss: 4.8118e-04 - val_accuracy: 1.0000 - val_loss: 2.3286e-04\n",
            "Epoch 50/50\n",
            "\u001b[1m1744/1744\u001b[0m \u001b[32m━━━━━━━━━━━━━━━━━━━━\u001b[0m\u001b[37m\u001b[0m \u001b[1m27s\u001b[0m 15ms/step - accuracy: 1.0000 - loss: 1.7911e-04 - val_accuracy: 1.0000 - val_loss: 9.3745e-05\n"
          ]
        }
      ]
    },
    {
      "cell_type": "code",
      "source": [
        "test_loss, test_accuracy = model.evaluate(X_test, y_test, verbose=0)\n",
        "print(f\"Test Accuracy: {test_accuracy*100:.2f}\")\n"
      ],
      "metadata": {
        "colab": {
          "base_uri": "https://localhost:8080/"
        },
        "id": "w6GJ5lzHy509",
        "outputId": "bd220f7b-7045-4f0f-ad72-e50842e1affa"
      },
      "execution_count": 14,
      "outputs": [
        {
          "output_type": "stream",
          "name": "stdout",
          "text": [
            "Test Accuracy: 100.00\n"
          ]
        }
      ]
    },
    {
      "cell_type": "code",
      "source": [
        "history_dict = history.history\n",
        "acc, val_acc = history_dict['accuracy'], history_dict['val_accuracy']\n",
        "loss, val_loss = history_dict['loss'], history_dict['val_loss']\n",
        "\n",
        "plt.figure(figsize=(10, 5))\n",
        "\n",
        "plt.subplot(1, 2, 1)\n",
        "plt.plot(acc, marker='o')\n",
        "plt.plot(val_acc, marker='x')\n",
        "plt.title('Training & Validation Accuracy')\n",
        "plt.xlabel('Epochs')\n",
        "plt.ylabel('Accuracy')\n",
        "plt.legend(['Train', 'Validation'])\n",
        "\n",
        "plt.subplot(1, 2, 2)\n",
        "plt.plot(loss, marker='o')\n",
        "plt.plot(val_loss, marker='x')\n",
        "plt.title('Training & Validation Loss')\n",
        "plt.xlabel('Epochs')\n",
        "plt.ylabel('Loss')\n",
        "plt.legend(['Train', 'Validation'])\n",
        "\n",
        "plt.tight_layout()\n",
        "plt.show()\n"
      ],
      "metadata": {
        "colab": {
          "base_uri": "https://localhost:8080/",
          "height": 507
        },
        "id": "WX0cBMv6zTCr",
        "outputId": "cef70162-f95a-4f27-ca5c-a294af31becd"
      },
      "execution_count": 15,
      "outputs": [
        {
          "output_type": "display_data",
          "data": {
            "text/plain": [
              "<Figure size 1000x500 with 2 Axes>"
            ],
            "image/png": "[encoded data removed]"
          },
          "metadata": {}
        }
      ]
    },
    {
      "cell_type": "code",
      "source": [
        "# Predict on test data\n",
        "y_pred_probs = model.predict(X_test)\n",
        "y_pred_classes = np.argmax(y_pred_probs, axis=1)\n",
        "y_true_classes = np.argmax(y_test, axis=1)\n",
        "\n",
        "# Classification report\n",
        "print(\"Classification Report:\\n\")\n",
        "print(classification_report(y_true_classes, y_pred_classes, target_names=le.classes_))\n"
      ],
      "metadata": {
        "colab": {
          "base_uri": "https://localhost:8080/"
        },
        "id": "G18J1LeUzV1Y",
        "outputId": "ea9131d1-cb21-484a-a34f-82fe063e7924"
      },
      "execution_count": 16,
      "outputs": [
        {
          "output_type": "stream",
          "name": "stdout",
          "text": [
            "\u001b[1m436/436\u001b[0m \u001b[32m━━━━━━━━━━━━━━━━━━━━\u001b[0m\u001b[37m\u001b[0m \u001b[1m3s\u001b[0m 7ms/step\n",
            "Classification Report:\n",
            "\n",
            "              precision    recall  f1-score   support\n",
            "\n",
            "       Anger       1.00      1.00      1.00      2235\n",
            "     Disgust       1.00      1.00      1.00      1856\n",
            "        Fear       1.00      1.00      1.00      2264\n",
            "       Happy       1.00      1.00      1.00      1604\n",
            "     Neutral       1.00      1.00      1.00      1322\n",
            "         Sad       1.00      1.00      1.00      2438\n",
            "    Surprise       1.00      1.00      1.00      2230\n",
            "\n",
            "    accuracy                           1.00     13949\n",
            "   macro avg       1.00      1.00      1.00     13949\n",
            "weighted avg       1.00      1.00      1.00     13949\n",
            "\n"
          ]
        }
      ]
    },
    {
      "cell_type": "code",
      "source": [
        "cm = confusion_matrix(y_true_classes, y_pred_classes)\n",
        "\n",
        "plt.figure(figsize=(8, 6))\n",
        "sns.heatmap(cm, annot=True, fmt='d', cmap='Blues',\n",
        "            xticklabels=le.classes_, yticklabels=le.classes_)\n",
        "plt.xlabel('Predicted')\n",
        "plt.ylabel('Actual')\n",
        "plt.title('Confusion Matrix')\n",
        "plt.show()\n"
      ],
      "metadata": {
        "colab": {
          "base_uri": "https://localhost:8080/",
          "height": 564
        },
        "id": "TT3kjAoxzamv",
        "outputId": "8635ccb1-91fc-4631-a53b-d015a9485509"
      },
      "execution_count": 17,
      "outputs": [
        {
          "output_type": "display_data",
          "data": {
            "text/plain": [
              "<Figure size 800x600 with 2 Axes>"
            ],
            "image/png": "[encoded data removed]"
          },
          "metadata": {}
        }
      ]
    },
    {
      "cell_type": "code",
      "source": [
        "model.save(\"eeg_emotion_bilstm_model.h5\")\n",
        "print(\"Model saved successfully!\")\n"
      ],
      "metadata": {
        "colab": {
          "base_uri": "https://localhost:8080/"
        },
        "id": "unY-K_TdzeEW",
        "outputId": "52da6393-3bca-4c21-fa5a-76d5dbfe2a7a"
      },
      "execution_count": 18,
      "outputs": [
        {
          "output_type": "stream",
          "name": "stderr",
          "text": [
            "WARNING:absl:You are saving your model as an HDF5 file via `model.save()` or `keras.saving.save_model(model)`. This file format is considered legacy. We recommend using instead the native Keras format, e.g. `model.save('my_model.keras')` or `keras.saving.save_model(model, 'my_model.keras')`. \n"
          ]
        },
        {
          "output_type": "stream",
          "name": "stdout",
          "text": [
            "Model saved successfully!\n"
          ]
        }
      ]
    },
    {
      "cell_type": "code",
      "source": [
        "model.summary()\n"
      ],
      "metadata": {
        "colab": {
          "base_uri": "https://localhost:8080/",
          "height": 273
        },
        "id": "pPMfk4wNz2kR",
        "outputId": "ddacc6d7-e14c-463e-a009-11d86b3c32cb"
      },
      "execution_count": 20,
      "outputs": [
        {
          "output_type": "display_data",
          "data": {
            "text/plain": [
              "\u001b[1mModel: \"sequential\"\u001b[0m\n"
            ],
            "text/html": [
              "<pre style=\"white-space:pre;overflow-x:auto;line-height:normal;font-family:Menlo,'DejaVu Sans Mono',consolas,'Courier New',monospace\"><span style=\"font-weight: bold\">Model: \"sequential\"</span>\n",
              "</pre>\n"
            ]
          },
          "metadata": {}
        },
        {
          "output_type": "display_data",
          "data": {
            "text/plain": [
              "┏━━━━━━━━━━━━━━━━━━━━━━━━━━━━━━━━━┳━━━━━━━━━━━━━━━━━━━━━━━━┳━━━━━━━━━━━━━━━┓\n",
              "┃\u001b[1m \u001b[0m\u001b[1mLayer (type)                   \u001b[0m\u001b[1m \u001b[0m┃\u001b[1m \u001b[0m\u001b[1mOutput Shape          \u001b[0m\u001b[1m \u001b[0m┃\u001b[1m \u001b[0m\u001b[1m      Param #\u001b[0m\u001b[1m \u001b[0m┃\n",
              "┡━━━━━━━━━━━━━━━━━━━━━━━━━━━━━━━━━╇━━━━━━━━━━━━━━━━━━━━━━━━╇━━━━━━━━━━━━━━━┩\n",
              "│ bidirectional (\u001b[38;5;33mBidirectional\u001b[0m)   │ (\u001b[38;5;45mNone\u001b[0m, \u001b[38;5;34m62\u001b[0m, \u001b[38;5;34m128\u001b[0m)        │        \u001b[38;5;34m35,840\u001b[0m │\n",
              "├─────────────────────────────────┼────────────────────────┼───────────────┤\n",
              "│ bidirectional_1 (\u001b[38;5;33mBidirectional\u001b[0m) │ (\u001b[38;5;45mNone\u001b[0m, \u001b[38;5;34m64\u001b[0m)             │        \u001b[38;5;34m41,216\u001b[0m │\n",
              "├─────────────────────────────────┼────────────────────────┼───────────────┤\n",
              "│ dense (\u001b[38;5;33mDense\u001b[0m)                   │ (\u001b[38;5;45mNone\u001b[0m, \u001b[38;5;34m64\u001b[0m)             │         \u001b[38;5;34m4,160\u001b[0m │\n",
              "├─────────────────────────────────┼────────────────────────┼───────────────┤\n",
              "│ dense_1 (\u001b[38;5;33mDense\u001b[0m)                 │ (\u001b[38;5;45mNone\u001b[0m, \u001b[38;5;34m7\u001b[0m)              │           \u001b[38;5;34m455\u001b[0m │\n",
              "└─────────────────────────────────┴────────────────────────┴───────────────┘\n"
            ],
            "text/html": [
              "<pre style=\"white-space:pre;overflow-x:auto;line-height:normal;font-family:Menlo,'DejaVu Sans Mono',consolas,'Courier New',monospace\">┏━━━━━━━━━━━━━━━━━━━━━━━━━━━━━━━━━┳━━━━━━━━━━━━━━━━━━━━━━━━┳━━━━━━━━━━━━━━━┓\n",
              "┃<span style=\"font-weight: bold\"> Layer (type)                    </span>┃<span style=\"font-weight: bold\"> Output Shape           </span>┃<span style=\"font-weight: bold\">       Param # </span>┃\n",
              "┡━━━━━━━━━━━━━━━━━━━━━━━━━━━━━━━━━╇━━━━━━━━━━━━━━━━━━━━━━━━╇━━━━━━━━━━━━━━━┩\n",
              "│ bidirectional (<span style=\"color: #0087ff; text-decoration-color: #0087ff\">Bidirectional</span>)   │ (<span style=\"color: #00d7ff; text-decoration-color: #00d7ff\">None</span>, <span style=\"color: #00af00; text-decoration-color: #00af00\">62</span>, <span style=\"color: #00af00; text-decoration-color: #00af00\">128</span>)        │        <span style=\"color: #00af00; text-decoration-color: #00af00\">35,840</span> │\n",
              "├─────────────────────────────────┼────────────────────────┼───────────────┤\n",
              "│ bidirectional_1 (<span style=\"color: #0087ff; text-decoration-color: #0087ff\">Bidirectional</span>) │ (<span style=\"color: #00d7ff; text-decoration-color: #00d7ff\">None</span>, <span style=\"color: #00af00; text-decoration-color: #00af00\">64</span>)             │        <span style=\"color: #00af00; text-decoration-color: #00af00\">41,216</span> │\n",
              "├─────────────────────────────────┼────────────────────────┼───────────────┤\n",
              "│ dense (<span style=\"color: #0087ff; text-decoration-color: #0087ff\">Dense</span>)                   │ (<span style=\"color: #00d7ff; text-decoration-color: #00d7ff\">None</span>, <span style=\"color: #00af00; text-decoration-color: #00af00\">64</span>)             │         <span style=\"color: #00af00; text-decoration-color: #00af00\">4,160</span> │\n",
              "├─────────────────────────────────┼────────────────────────┼───────────────┤\n",
              "│ dense_1 (<span style=\"color: #0087ff; text-decoration-color: #0087ff\">Dense</span>)                 │ (<span style=\"color: #00d7ff; text-decoration-color: #00d7ff\">None</span>, <span style=\"color: #00af00; text-decoration-color: #00af00\">7</span>)              │           <span style=\"color: #00af00; text-decoration-color: #00af00\">455</span> │\n",
              "└─────────────────────────────────┴────────────────────────┴───────────────┘\n",
              "</pre>\n"
            ]
          },
          "metadata": {}
        },
        {
          "output_type": "display_data",
          "data": {
            "text/plain": [
              "\u001b[1m Total params: \u001b[0m\u001b[38;5;34m245,015\u001b[0m (957.09 KB)\n"
            ],
            "text/html": [
              "<pre style=\"white-space:pre;overflow-x:auto;line-height:normal;font-family:Menlo,'DejaVu Sans Mono',consolas,'Courier New',monospace\"><span style=\"font-weight: bold\"> Total params: </span><span style=\"color: #00af00; text-decoration-color: #00af00\">245,015</span> (957.09 KB)\n",
              "</pre>\n"
            ]
          },
          "metadata": {}
        },
        {
          "output_type": "display_data",
          "data": {
            "text/plain": [
              "\u001b[1m Trainable params: \u001b[0m\u001b[38;5;34m81,671\u001b[0m (319.03 KB)\n"
            ],
            "text/html": [
              "<pre style=\"white-space:pre;overflow-x:auto;line-height:normal;font-family:Menlo,'DejaVu Sans Mono',consolas,'Courier New',monospace\"><span style=\"font-weight: bold\"> Trainable params: </span><span style=\"color: #00af00; text-decoration-color: #00af00\">81,671</span> (319.03 KB)\n",
              "</pre>\n"
            ]
          },
          "metadata": {}
        },
        {
          "output_type": "display_data",
          "data": {
            "text/plain": [
              "\u001b[1m Non-trainable params: \u001b[0m\u001b[38;5;34m0\u001b[0m (0.00 B)\n"
            ],
            "text/html": [
              "<pre style=\"white-space:pre;overflow-x:auto;line-height:normal;font-family:Menlo,'DejaVu Sans Mono',consolas,'Courier New',monospace\"><span style=\"font-weight: bold\"> Non-trainable params: </span><span style=\"color: #00af00; text-decoration-color: #00af00\">0</span> (0.00 B)\n",
              "</pre>\n"
            ]
          },
          "metadata": {}
        },
        {
          "output_type": "display_data",
          "data": {
            "text/plain": [
              "\u001b[1m Optimizer params: \u001b[0m\u001b[38;5;34m163,344\u001b[0m (638.07 KB)\n"
            ],
            "text/html": [
              "<pre style=\"white-space:pre;overflow-x:auto;line-height:normal;font-family:Menlo,'DejaVu Sans Mono',consolas,'Courier New',monospace\"><span style=\"font-weight: bold\"> Optimizer params: </span><span style=\"color: #00af00; text-decoration-color: #00af00\">163,344</span> (638.07 KB)\n",
              "</pre>\n"
            ]
          },
          "metadata": {}
        }
      ]
    },
    {
      "cell_type": "code",
      "source": [
        "loaded_model = tf.keras.models.load_model(\"eeg_emotion_bilstm_model.h5\")\n"
      ],
      "metadata": {
        "colab": {
          "base_uri": "https://localhost:8080/"
        },
        "id": "HWq0jujd1K6H",
        "outputId": "13decd2f-b9a2-4f30-aa96-feb855c17159"
      },
      "execution_count": 21,
      "outputs": [
        {
          "output_type": "stream",
          "name": "stderr",
          "text": [
            "WARNING:absl:Compiled the loaded model, but the compiled metrics have yet to be built. `model.compile_metrics` will be empty until you train or evaluate the model.\n"
          ]
        }
      ]
    },
    {
      "cell_type": "code",
      "source": [
        "loaded_model.compile(\n",
        "    loss=tf.keras.losses.CategoricalCrossentropy(from_logits=True),\n",
        "    optimizer=tf.keras.optimizers.Adam(),\n",
        "    metrics=['accuracy']\n",
        ")\n"
      ],
      "metadata": {
        "id": "8HDBLr-Q1Oec"
      },
      "execution_count": 22,
      "outputs": []
    },
    {
      "cell_type": "code",
      "source": [
        "loss, acc = loaded_model.evaluate(X_test, y_test, verbose=0)\n",
        "print(f\"Test Accuracy: {acc * 100:.2f}%\")\n"
      ],
      "metadata": {
        "colab": {
          "base_uri": "https://localhost:8080/"
        },
        "id": "ZVV_13i71Q9z",
        "outputId": "5a786448-b050-46c4-ca8d-33cf97200522"
      },
      "execution_count": 23,
      "outputs": [
        {
          "output_type": "stream",
          "name": "stderr",
          "text": [
            "/usr/local/lib/python3.11/dist-packages/keras/src/backend/tensorflow/nn.py:666: UserWarning: \"`categorical_crossentropy` received `from_logits=True`, but the `output` argument was produced by a Softmax activation and thus does not represent logits. Was this intended?\n",
            "  output, from_logits = _get_logits(\n"
          ]
        },
        {
          "output_type": "stream",
          "name": "stdout",
          "text": [
            "Test Accuracy: 100.00%\n"
          ]
        }
      ]
    },
    {
      "cell_type": "code",
      "source": [
        "# Predict on the dataset (or use a specific sample)\n",
        "predictions = model.predict(X_reshaped)\n",
        "\n",
        "# Convert logits to predicted class labels\n",
        "predicted_classes = np.argmax(predictions, axis=1)\n",
        "\n",
        "# For demonstration, print the first 10 predictions and their corresponding true labels\n",
        "true_classes = np.argmax(y_categorical, axis=1)\n",
        "\n",
        "print(\"Predicted classes: \", predicted_classes[:10])  # First 10 predictions\n",
        "print(\"True classes:     \", true_classes[:10])      # First 10 actual classes\n"
      ],
      "metadata": {
        "colab": {
          "base_uri": "https://localhost:8080/"
        },
        "id": "XrDHeSql38qo",
        "outputId": "5096d768-63bc-4ff6-97dc-62d0f701a327"
      },
      "execution_count": 26,
      "outputs": [
        {
          "output_type": "stream",
          "name": "stdout",
          "text": [
            "\u001b[1m2180/2180\u001b[0m \u001b[32m━━━━━━━━━━━━━━━━━━━━\u001b[0m\u001b[37m\u001b[0m \u001b[1m20s\u001b[0m 9ms/step\n",
            "Predicted classes:  [3 3 3 3 3 3 3 3 3 3]\n",
            "True classes:      [3 3 3 3 3 3 3 3 3 3]\n"
          ]
        }
      ]
    },
    {
      "cell_type": "code",
      "source": [
        "import random\n",
        "\n",
        "# Select a random row from the dataset (X_test or the whole dataset)\n",
        "random_idx = random.randint(0, len(X_test) - 1)\n",
        "random_row = X_test[random_idx].reshape(1, 62, 5)  # Reshape to match model input shape\n",
        "\n",
        "# Make a prediction\n",
        "pred_probs = model.predict(random_row)\n",
        "pred_class = np.argmax(pred_probs, axis=1)\n",
        "\n",
        "# Decode the predicted class to emotion label\n",
        "predicted_emotion = le.classes_[pred_class][0]\n",
        "\n",
        "# Print the results\n",
        "print(f\"Random Row Index: {random_idx}\")\n",
        "print(f\"Predicted Emotion: {predicted_emotion}\")\n"
      ],
      "metadata": {
        "colab": {
          "base_uri": "https://localhost:8080/"
        },
        "id": "aKGnnQsd489J",
        "outputId": "944bbd38-914d-4810-b73f-147d3ed29d5a"
      },
      "execution_count": 41,
      "outputs": [
        {
          "output_type": "stream",
          "name": "stdout",
          "text": [
            "\u001b[1m1/1\u001b[0m \u001b[32m━━━━━━━━━━━━━━━━━━━━\u001b[0m\u001b[37m\u001b[0m \u001b[1m0s\u001b[0m 35ms/step\n",
            "Random Row Index: 2480\n",
            "Predicted Emotion: Surprise\n"
          ]
        }
      ]
    }
  ]
}